{
  "nbformat": 4,
  "nbformat_minor": 0,
  "metadata": {
    "colab": {
      "name": "KNN_Classification.ipynb",
      "provenance": [],
      "collapsed_sections": [],
      "authorship_tag": "ABX9TyOcwvHRzZY51mpBFkwNLdRT",
      "include_colab_link": true
    },
    "kernelspec": {
      "name": "python3",
      "display_name": "Python 3"
    }
  },
  "cells": [
    {
      "cell_type": "markdown",
      "metadata": {
        "id": "view-in-github",
        "colab_type": "text"
      },
      "source": [
        "<a href=\"https://colab.research.google.com/github/abidshafee/DataScienceYouTubeTutorials/blob/master/KNN_Classification.ipynb\" target=\"_parent\"><img src=\"https://colab.research.google.com/assets/colab-badge.svg\" alt=\"Open In Colab\"/></a>"
      ]
    },
    {
      "cell_type": "markdown",
      "metadata": {
        "id": "iYWRcjwdp_pw"
      },
      "source": [
        "From my personal observation, the accuracy of the KNN Model depends on the overlapping of data. The more the data overlap on each other, the less the accurate the KNN model will able to perform. We can find data overlapping from PCA scatter plot or seaborn pair plot. For densely overlapped data point accuracy increased significantly by increasing the value *n_neighbor*."
      ]
    },
    {
      "cell_type": "code",
      "metadata": {
        "id": "fukB3RJ1pJfr"
      },
      "source": [
        "import pandas as pd\n",
        "import numpy as np\n",
        "from matplotlib import pyplot as plt\n",
        "import seaborn as sns\n",
        "from sklearn.preprocessing import StandardScaler\n",
        "from sklearn.neighbors import KNeighborsClassifier\n",
        "from sklearn.model_selection import train_test_split\n",
        "from matplotlib import style\n",
        "style.use('ggplot')"
      ],
      "execution_count": 2,
      "outputs": []
    },
    {
      "cell_type": "code",
      "metadata": {
        "id": "0kS4NZd2pX5L"
      },
      "source": [
        "from google.colab import files\n",
        "file = files.upload()"
      ],
      "execution_count": null,
      "outputs": []
    },
    {
      "cell_type": "code",
      "metadata": {
        "id": "hGrTXWsypb3w"
      },
      "source": [
        "df = pd.read_csv('datasets_Iris.csv', index_col=0)"
      ],
      "execution_count": null,
      "outputs": []
    },
    {
      "cell_type": "code",
      "metadata": {
        "id": "DCZVx2IdpiCw"
      },
      "source": [
        "df.head()"
      ],
      "execution_count": null,
      "outputs": []
    },
    {
      "cell_type": "markdown",
      "metadata": {
        "id": "mCWBgFwbzpFN"
      },
      "source": [
        "### Defining Input variables 'X', and targeted output 'y' "
      ]
    },
    {
      "cell_type": "markdown",
      "metadata": {
        "id": "BFVLQJuv0t7g"
      },
      "source": [
        "### Converting Categorical Species column to numeric values\n",
        "####**Not that necessary for this case**"
      ]
    },
    {
      "cell_type": "code",
      "metadata": {
        "id": "2QqUE8Tv03i2"
      },
      "source": [
        "from sklearn.preprocessing import LabelEncoder"
      ],
      "execution_count": null,
      "outputs": []
    },
    {
      "cell_type": "code",
      "metadata": {
        "id": "pduvDt5Y0_os"
      },
      "source": [
        "encodedOutput_Y = LabelEncoder()\n",
        "df['Species'] = encodedOutput_Y.fit_transform(df.iloc[:,-1].values)"
      ],
      "execution_count": null,
      "outputs": []
    },
    {
      "cell_type": "code",
      "metadata": {
        "id": "W9Lp9_-w1J_O"
      },
      "source": [
        "df.tail()"
      ],
      "execution_count": null,
      "outputs": []
    },
    {
      "cell_type": "markdown",
      "metadata": {
        "id": "RxccXQO-YV1t"
      },
      "source": [
        "0 -> Iris-setosa\n",
        "1 -> Iris-versicolor\n",
        "2 -> Iris-virginica"
      ]
    },
    {
      "cell_type": "code",
      "metadata": {
        "id": "R29StNMI6eKG"
      },
      "source": [
        "df.info()"
      ],
      "execution_count": null,
      "outputs": []
    },
    {
      "cell_type": "markdown",
      "metadata": {
        "id": "ZS8ix80tdok5"
      },
      "source": [
        "## Distribution of Data in the dataset\n",
        "How data is distributed in the dataset. Here are more pairplot options.\n",
        "[sns.pairplot](https://seaborn.pydata.org/generated/seaborn.pairplot.html)\n",
        "\n",
        "**hue** has been set to Species without converting numerical values"
      ]
    },
    {
      "cell_type": "markdown",
      "metadata": {
        "id": "uHx9gsbpnK9h"
      },
      "source": [
        "As we can see in the distribution that the data in the dataset doesn't have much Overlaping except for few. So we can easily apply KNN for this dataset expection much better output."
      ]
    },
    {
      "cell_type": "code",
      "metadata": {
        "id": "5h8rNdQkzaIu"
      },
      "source": [
        "sns.pairplot(df, hue='Species',  markers=[\"o\", \"s\", \"D\"], height=3.5) # hue=y when y datatype is boolean"
      ],
      "execution_count": null,
      "outputs": []
    },
    {
      "cell_type": "markdown",
      "metadata": {
        "id": "EcO3VuJ26oVF"
      },
      "source": [
        "### Slicing Input variables and targeted output"
      ]
    },
    {
      "cell_type": "code",
      "metadata": {
        "id": "OXFUFSYo6QMf"
      },
      "source": [
        "numeric_df = df.iloc[:,0:4]\n",
        "\n",
        "# drop the categorical Species column\n",
        "# ty=df.drop('Species',axis=1)\n",
        "\n",
        "# Targeted Output as pandas.Series\n",
        "# y = df[[df.columns[-1]]]\n",
        "y = df[df.columns[-1]]"
      ],
      "execution_count": null,
      "outputs": []
    },
    {
      "cell_type": "code",
      "metadata": {
        "id": "cpZAwMWl6yXO"
      },
      "source": [
        "numeric_df"
      ],
      "execution_count": null,
      "outputs": []
    },
    {
      "cell_type": "markdown",
      "metadata": {
        "id": "c1KliKKRuCmB"
      },
      "source": [
        "### Convering y to 1D numpy array\n",
        "because knn expect targeted output in this shape"
      ]
    },
    {
      "cell_type": "code",
      "metadata": {
        "id": "5eUBVQwvgeZt"
      },
      "source": [
        "y = y.values"
      ],
      "execution_count": null,
      "outputs": []
    },
    {
      "cell_type": "code",
      "metadata": {
        "id": "peT4E6YF7iLX"
      },
      "source": [
        "y"
      ],
      "execution_count": null,
      "outputs": []
    },
    {
      "cell_type": "markdown",
      "metadata": {
        "id": "B_b3IObBCOFk"
      },
      "source": [
        "### Scaling data for centering the dataset to origin "
      ]
    },
    {
      "cell_type": "code",
      "metadata": {
        "id": "PSDoVQKI8k9Y"
      },
      "source": [
        "from sklearn.preprocessing import StandardScaler"
      ],
      "execution_count": null,
      "outputs": []
    },
    {
      "cell_type": "code",
      "metadata": {
        "id": "YXFqRJo79o7L"
      },
      "source": [
        "scaler = StandardScaler()\n",
        "scaler.fit(numeric_df)"
      ],
      "execution_count": null,
      "outputs": []
    },
    {
      "cell_type": "code",
      "metadata": {
        "id": "ikyMxiuG_zov"
      },
      "source": [
        "scaled_data = scaler.transform(numeric_df)"
      ],
      "execution_count": null,
      "outputs": []
    },
    {
      "cell_type": "code",
      "metadata": {
        "id": "YyUm6oE3AJgC"
      },
      "source": [
        "scaled_data"
      ],
      "execution_count": null,
      "outputs": []
    },
    {
      "cell_type": "markdown",
      "metadata": {
        "id": "NEUDtB_rBq4B"
      },
      "source": [
        "### Converting scaled data to a dataframe"
      ]
    },
    {
      "cell_type": "code",
      "metadata": {
        "id": "fSa4Xm33APmP"
      },
      "source": [
        "scaled_df = pd.DataFrame(scaled_data, columns=df.columns[0:-1])"
      ],
      "execution_count": null,
      "outputs": []
    },
    {
      "cell_type": "code",
      "metadata": {
        "id": "il0pCE6tBk3P"
      },
      "source": [
        "X = scaled_df\n",
        "X.head()"
      ],
      "execution_count": null,
      "outputs": []
    },
    {
      "cell_type": "markdown",
      "metadata": {
        "id": "dNsGW9HIoCkL"
      },
      "source": [
        "## Test Train Split"
      ]
    },
    {
      "cell_type": "code",
      "metadata": {
        "id": "xIGvmryXpu8J"
      },
      "source": [
        "X_train, X_test, y_train, y_test = train_test_split(X, y, test_size=0.20)"
      ],
      "execution_count": null,
      "outputs": []
    },
    {
      "cell_type": "code",
      "metadata": {
        "id": "TSaaoffGoxOz"
      },
      "source": [
        "print('Size of Train Data >> ' + str(len(X_train)))\n",
        "print('Size of Test  >> ' + str(len(X_test)))\n",
        "print('Size of y Train >> ' + str(len(y_train)))\n",
        "print('Size of y Test >> ' + str(len(y_test)))"
      ],
      "execution_count": null,
      "outputs": []
    },
    {
      "cell_type": "markdown",
      "metadata": {
        "id": "Spd9uMMpsroV"
      },
      "source": [
        "# **Using KNN Classifier**"
      ]
    },
    {
      "cell_type": "code",
      "metadata": {
        "id": "oKhBdACAtLMm"
      },
      "source": [
        "knn = KNeighborsClassifier(n_neighbors=13)"
      ],
      "execution_count": null,
      "outputs": []
    },
    {
      "cell_type": "code",
      "metadata": {
        "id": "93n_3QlatQDT"
      },
      "source": [
        "knn.fit(X_train, y_train)"
      ],
      "execution_count": null,
      "outputs": []
    },
    {
      "cell_type": "code",
      "metadata": {
        "id": "o9iqcUs00sRa"
      },
      "source": [
        "prediction = knn.predict(X_test)"
      ],
      "execution_count": null,
      "outputs": []
    },
    {
      "cell_type": "code",
      "metadata": {
        "id": "ablYupEJ1ez5"
      },
      "source": [
        "prediction"
      ],
      "execution_count": null,
      "outputs": []
    },
    {
      "cell_type": "markdown",
      "metadata": {
        "id": "r9tr04uIFz90"
      },
      "source": [
        "## Accuracy of our Model"
      ]
    },
    {
      "cell_type": "code",
      "metadata": {
        "id": "7XPZsdpAGKdJ"
      },
      "source": [
        "from sklearn.metrics import accuracy_score"
      ],
      "execution_count": null,
      "outputs": []
    },
    {
      "cell_type": "code",
      "metadata": {
        "id": "84JegwooF4_n"
      },
      "source": [
        "knn_accuracy = round((accuracy_score(y_test, prediction) * 100), 2)"
      ],
      "execution_count": null,
      "outputs": []
    },
    {
      "cell_type": "code",
      "metadata": {
        "id": "OtM4dXGIGoy5"
      },
      "source": [
        "print(str(knn_accuracy) + '%')"
      ],
      "execution_count": null,
      "outputs": []
    },
    {
      "cell_type": "markdown",
      "metadata": {
        "id": "Bt1x3trfvF3r"
      },
      "source": [
        "## Testing Accurecy of KNN Model"
      ]
    },
    {
      "cell_type": "code",
      "metadata": {
        "id": "DGgoMgtJtWik"
      },
      "source": [
        "from sklearn.metrics import classification_report, confusion_matrix\n",
        "from sklearn.model_selection import cross_val_score"
      ],
      "execution_count": null,
      "outputs": []
    },
    {
      "cell_type": "code",
      "metadata": {
        "id": "IOVKw1A91K53"
      },
      "source": [
        "conf_matrix = confusion_matrix(y_test, prediction)\n",
        "print(conf_matrix)\n",
        "print(conf_matrix.shape)"
      ],
      "execution_count": null,
      "outputs": []
    },
    {
      "cell_type": "markdown",
      "metadata": {
        "id": "S06tHW4odPM6"
      },
      "source": [
        "`Each row in a confusion matrix represents an actual class, while each column represents a predicted class.`\n",
        "\n",
        "**From the confusion matrix**\n",
        " - For first-col first-row we can say that we have prediced 8 values correctly category-0, and no false prediction.\n",
        " - 2nd-col 2nd-row 8 values correctly predicted category-1 comparing to y_test, and 2 falsely predicted caregory-2. \n",
        " - $3^{rd}$-col, $3^{rd}$-row our model has predicted 10 values correctly category-2, and 2 falsely predicted category-1."
      ]
    },
    {
      "cell_type": "markdown",
      "metadata": {
        "id": "tZm8_GVy_B7s"
      },
      "source": [
        "### Plotting Confusion Matrix\n",
        "**Each row in a confusion matrix represents an actual class, while each column represents a predicted class.**"
      ]
    },
    {
      "cell_type": "code",
      "metadata": {
        "id": "aESQSJj48dJS"
      },
      "source": [
        "sns.heatmap(conf_matrix, annot=True)"
      ],
      "execution_count": null,
      "outputs": []
    },
    {
      "cell_type": "markdown",
      "metadata": {
        "id": "E4n_N0iqkoL6"
      },
      "source": [
        "The confusion matrix gives us a lot of information, but sometimes we may need to prefer a more concise metric"
      ]
    },
    {
      "cell_type": "markdown",
      "metadata": {
        "id": "vll4BKja2v6z"
      },
      "source": [
        "Without converting categorical variables to numerical values."
      ]
    },
    {
      "cell_type": "code",
      "metadata": {
        "id": "9rir7b9Z1tp6"
      },
      "source": [
        "print(classification_report(y_test, prediction))"
      ],
      "execution_count": null,
      "outputs": []
    },
    {
      "cell_type": "markdown",
      "metadata": {
        "id": "FKwGCI-BlXMJ"
      },
      "source": [
        " - **precision** of the classifier ratio of positive prediction.\n",
        " $precision = \\frac{TP\n",
        " }{TP + FP}$\n",
        " - **Recall**, also called sensitivity or true positive rate (TPR): the ratio of positive instances that are correctly detected by the classifier, almost Similar to precsion. $recall = \\frac{TP\n",
        " }{TP + FN}$\n",
        " - classifier will only get a high **F1-score** if both recall and precision are high."
      ]
    },
    {
      "cell_type": "markdown",
      "metadata": {
        "id": "V_-4TVlP4zS_"
      },
      "source": [
        "### Selecting best K value or n_neighbors\n",
        "using cross validation"
      ]
    },
    {
      "cell_type": "code",
      "metadata": {
        "id": "jMzucuNc2A6p"
      },
      "source": [
        "accuracy =[]\n",
        "for num in range(1, 50):\n",
        "  knn = KNeighborsClassifier(n_neighbors=num)\n",
        "  acc= cross_val_score(knn, X, y, cv=20)\n",
        "  accuracy.append(acc.mean()*100) #1-acc.mean()"
      ],
      "execution_count": null,
      "outputs": []
    },
    {
      "cell_type": "code",
      "metadata": {
        "id": "Ip9SEBuc9V9-"
      },
      "source": [
        "accuracy"
      ],
      "execution_count": null,
      "outputs": []
    },
    {
      "cell_type": "code",
      "metadata": {
        "id": "zY0AtVgO9f-V"
      },
      "source": [
        "plt.figure(figsize=(16, 8))\n",
        "plt.plot(range(1,50), accuracy, marker='o')\n",
        "plt.ylabel(\"Accuracy '%'\")\n",
        "plt.xlabel(\"n_neighbors\")\n",
        "plt.show()"
      ],
      "execution_count": null,
      "outputs": []
    },
    {
      "cell_type": "markdown",
      "metadata": {
        "id": "dsd_Y0HfV5Fb"
      },
      "source": [
        "# **k fold cross validation**\n",
        "\n",
        "Just like the `cross_val_score()` function, `cross_val_predict()` performs **K-fold** cross-validation, but instead of returning the evaluation scores, *it returns the predictions made on each test fold*. This means that we get a clean prediction for each\n",
        "instance in the training set."
      ]
    },
    {
      "cell_type": "code",
      "metadata": {
        "id": "njnCzQoP_sZK"
      },
      "source": [
        "from sklearn.model_selection import cross_val_predict"
      ],
      "execution_count": null,
      "outputs": []
    },
    {
      "cell_type": "code",
      "metadata": {
        "id": "kcV-LayKX_Y2"
      },
      "source": [
        "kf_accurecy = []\n",
        "for i in range(1, 50):\n",
        "  knn = KNeighborsClassifier(n_neighbors=i)\n",
        "  pred = cross_val_predict(knn, X, y, cv=3)\n",
        "  kf_accurecy.append(round((pred.mean()*100), 2)) #1-acc.mean()"
      ],
      "execution_count": null,
      "outputs": []
    },
    {
      "cell_type": "code",
      "metadata": {
        "id": "vcqaQlBIYBmn"
      },
      "source": [
        "kf_accurecy"
      ],
      "execution_count": null,
      "outputs": []
    },
    {
      "cell_type": "code",
      "metadata": {
        "id": "zkiCowDnZKeT"
      },
      "source": [
        "plt.figure(figsize=(17, 8))\n",
        "plt.plot(range(1,50), kf_accurecy, marker='o')\n",
        "plt.ylabel(\"Accuracy '%'\")\n",
        "plt.xlabel(\"n_neighbors\")\n",
        "plt.show()"
      ],
      "execution_count": null,
      "outputs": []
    },
    {
      "cell_type": "code",
      "metadata": {
        "id": "HeMsUSsFat1n"
      },
      "source": [
        ""
      ],
      "execution_count": null,
      "outputs": []
    }
  ]
}