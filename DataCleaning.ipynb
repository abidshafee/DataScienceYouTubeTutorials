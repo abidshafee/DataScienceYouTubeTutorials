{
  "nbformat": 4,
  "nbformat_minor": 0,
  "metadata": {
    "colab": {
      "name": "DataCleaning.ipynb",
      "provenance": [],
      "collapsed_sections": [
        "EWTB3CLqVewf",
        "iP4So9m8XvgN",
        "5ytjUYwC17Xk"
      ],
      "authorship_tag": "ABX9TyPZyMI5h667llLiDoneAAif",
      "include_colab_link": true
    },
    "kernelspec": {
      "name": "python3",
      "display_name": "Python 3"
    }
  },
  "cells": [
    {
      "cell_type": "markdown",
      "metadata": {
        "id": "view-in-github",
        "colab_type": "text"
      },
      "source": [
        "<a href=\"https://colab.research.google.com/github/abidshafee/DataScienceYouTubeTutorials/blob/master/DataCleaning.ipynb\" target=\"_parent\"><img src=\"https://colab.research.google.com/assets/colab-badge.svg\" alt=\"Open In Colab\"/></a>"
      ]
    },
    {
      "cell_type": "markdown",
      "metadata": {
        "id": "YrUQ2eDqi0cj"
      },
      "source": [
        "## Loading Libraries"
      ]
    },
    {
      "cell_type": "code",
      "metadata": {
        "id": "uOAgyvUNis9j"
      },
      "source": [
        "import pandas as pd\n",
        "import numpy as np"
      ],
      "execution_count": null,
      "outputs": []
    },
    {
      "cell_type": "markdown",
      "metadata": {
        "id": "WVyKo5tajz0f"
      },
      "source": [
        "## Importing Data"
      ]
    },
    {
      "cell_type": "code",
      "metadata": {
        "id": "J2fn-eEzjhDt",
        "outputId": "9274f5cb-df09-4f70-e29a-fa90e147e653",
        "colab": {
          "resources": {
            "http://localhost:8080/nbextensions/google.colab/files.js": {
              "data": "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",
              "ok": true,
              "headers": [
                [
                  "content-type",
                  "application/javascript"
                ]
              ],
              "status": 200,
              "status_text": ""
            }
          },
          "base_uri": "https://localhost:8080/",
          "height": 72
        }
      },
      "source": [
        "from google.colab import files \n",
        "file = files.upload()"
      ],
      "execution_count": null,
      "outputs": [
        {
          "output_type": "display_data",
          "data": {
            "text/html": [
              "\n",
              "     <input type=\"file\" id=\"files-5c782967-d8fd-4c66-b968-bd27fe2fa766\" name=\"files[]\" multiple disabled\n",
              "        style=\"border:none\" />\n",
              "     <output id=\"result-5c782967-d8fd-4c66-b968-bd27fe2fa766\">\n",
              "      Upload widget is only available when the cell has been executed in the\n",
              "      current browser session. Please rerun this cell to enable.\n",
              "      </output>\n",
              "      <script src=\"/nbextensions/google.colab/files.js\"></script> "
            ],
            "text/plain": [
              "<IPython.core.display.HTML object>"
            ]
          },
          "metadata": {
            "tags": []
          }
        },
        {
          "output_type": "stream",
          "text": [
            "Saving Weather.csv to Weather.csv\n"
          ],
          "name": "stdout"
        }
      ]
    },
    {
      "cell_type": "markdown",
      "metadata": {
        "id": "vQF_PQZDkmwa"
      },
      "source": [
        "### Loading the data into pandas dataframe"
      ]
    },
    {
      "cell_type": "code",
      "metadata": {
        "id": "-3c2LO-6kNtK"
      },
      "source": [
        "df = pd.read_csv('Weather.csv')"
      ],
      "execution_count": null,
      "outputs": []
    },
    {
      "cell_type": "code",
      "metadata": {
        "id": "iGUVTZntk-pu",
        "outputId": "00a49416-0c0b-47fa-8978-1e156ab8e73f",
        "colab": {
          "base_uri": "https://localhost:8080/",
          "height": 204
        }
      },
      "source": [
        "df.head()"
      ],
      "execution_count": null,
      "outputs": [
        {
          "output_type": "execute_result",
          "data": {
            "text/html": [
              "<div>\n",
              "<style scoped>\n",
              "    .dataframe tbody tr th:only-of-type {\n",
              "        vertical-align: middle;\n",
              "    }\n",
              "\n",
              "    .dataframe tbody tr th {\n",
              "        vertical-align: top;\n",
              "    }\n",
              "\n",
              "    .dataframe thead th {\n",
              "        text-align: right;\n",
              "    }\n",
              "</style>\n",
              "<table border=\"1\" class=\"dataframe\">\n",
              "  <thead>\n",
              "    <tr style=\"text-align: right;\">\n",
              "      <th></th>\n",
              "      <th>code</th>\n",
              "      <th>province</th>\n",
              "      <th>date</th>\n",
              "      <th>avg_temp</th>\n",
              "      <th>min_temp</th>\n",
              "      <th>max_temp</th>\n",
              "      <th>precipitation</th>\n",
              "      <th>max_wind_speed</th>\n",
              "      <th>most_wind_direction</th>\n",
              "      <th>avg_relative_humidity</th>\n",
              "    </tr>\n",
              "  </thead>\n",
              "  <tbody>\n",
              "    <tr>\n",
              "      <th>0</th>\n",
              "      <td>10000</td>\n",
              "      <td>Seoul</td>\n",
              "      <td>2016-01-01</td>\n",
              "      <td>1.2</td>\n",
              "      <td>-3.3</td>\n",
              "      <td>4.0</td>\n",
              "      <td>0.0</td>\n",
              "      <td>3.5</td>\n",
              "      <td>90.0</td>\n",
              "      <td>73.0</td>\n",
              "    </tr>\n",
              "    <tr>\n",
              "      <th>1</th>\n",
              "      <td>11000</td>\n",
              "      <td>Busan</td>\n",
              "      <td>2016-01-01</td>\n",
              "      <td>5.3</td>\n",
              "      <td>1.1</td>\n",
              "      <td>10.9</td>\n",
              "      <td>0.0</td>\n",
              "      <td>7.4</td>\n",
              "      <td>340.0</td>\n",
              "      <td>52.1</td>\n",
              "    </tr>\n",
              "    <tr>\n",
              "      <th>2</th>\n",
              "      <td>12000</td>\n",
              "      <td>Daegu</td>\n",
              "      <td>2016-01-01</td>\n",
              "      <td>1.7</td>\n",
              "      <td>-4.0</td>\n",
              "      <td>8.0</td>\n",
              "      <td>0.0</td>\n",
              "      <td>3.7</td>\n",
              "      <td>270.0</td>\n",
              "      <td>70.5</td>\n",
              "    </tr>\n",
              "    <tr>\n",
              "      <th>3</th>\n",
              "      <td>13000</td>\n",
              "      <td>Gwangju</td>\n",
              "      <td>2016-01-01</td>\n",
              "      <td>3.2</td>\n",
              "      <td>-1.5</td>\n",
              "      <td>8.1</td>\n",
              "      <td>0.0</td>\n",
              "      <td>2.7</td>\n",
              "      <td>230.0</td>\n",
              "      <td>73.1</td>\n",
              "    </tr>\n",
              "    <tr>\n",
              "      <th>4</th>\n",
              "      <td>14000</td>\n",
              "      <td>Incheon</td>\n",
              "      <td>2016-01-01</td>\n",
              "      <td>3.1</td>\n",
              "      <td>-0.4</td>\n",
              "      <td>5.7</td>\n",
              "      <td>0.0</td>\n",
              "      <td>5.3</td>\n",
              "      <td>180.0</td>\n",
              "      <td>83.9</td>\n",
              "    </tr>\n",
              "  </tbody>\n",
              "</table>\n",
              "</div>"
            ],
            "text/plain": [
              "    code province  ... most_wind_direction  avg_relative_humidity\n",
              "0  10000    Seoul  ...                90.0                   73.0\n",
              "1  11000    Busan  ...               340.0                   52.1\n",
              "2  12000    Daegu  ...               270.0                   70.5\n",
              "3  13000  Gwangju  ...               230.0                   73.1\n",
              "4  14000  Incheon  ...               180.0                   83.9\n",
              "\n",
              "[5 rows x 10 columns]"
            ]
          },
          "metadata": {
            "tags": []
          },
          "execution_count": 5
        }
      ]
    },
    {
      "cell_type": "markdown",
      "metadata": {
        "id": "q7DtHa3clcC2"
      },
      "source": [
        "# Handling Missing Values"
      ]
    },
    {
      "cell_type": "code",
      "metadata": {
        "id": "dxtA4bkyk_5l",
        "outputId": "75826ab8-8cbe-40c5-c7b9-cead699214fb",
        "colab": {
          "base_uri": "https://localhost:8080/",
          "height": 204
        }
      },
      "source": [
        "df.isna().any()"
      ],
      "execution_count": null,
      "outputs": [
        {
          "output_type": "execute_result",
          "data": {
            "text/plain": [
              "code                     False\n",
              "province                 False\n",
              "date                     False\n",
              "avg_temp                  True\n",
              "min_temp                  True\n",
              "max_temp                  True\n",
              "precipitation            False\n",
              "max_wind_speed            True\n",
              "most_wind_direction       True\n",
              "avg_relative_humidity     True\n",
              "dtype: bool"
            ]
          },
          "metadata": {
            "tags": []
          },
          "execution_count": 8
        }
      ]
    },
    {
      "cell_type": "code",
      "metadata": {
        "id": "FzTXbp9_uR6D",
        "outputId": "431d75da-4997-4671-fa4a-a1629db39a8e",
        "colab": {
          "base_uri": "https://localhost:8080/",
          "height": 34
        }
      },
      "source": [
        "df.isna().any().sum()"
      ],
      "execution_count": null,
      "outputs": [
        {
          "output_type": "execute_result",
          "data": {
            "text/plain": [
              "6"
            ]
          },
          "metadata": {
            "tags": []
          },
          "execution_count": 9
        }
      ]
    },
    {
      "cell_type": "markdown",
      "metadata": {
        "id": "mVem9LyhtnBg"
      },
      "source": [
        "There are Six Columns in this dataset that contain null values"
      ]
    },
    {
      "cell_type": "code",
      "metadata": {
        "id": "lvHAZQRbtw76",
        "outputId": "a1083b7d-cbae-43f7-c685-7a7339055a0e",
        "colab": {
          "base_uri": "https://localhost:8080/",
          "height": 204
        }
      },
      "source": [
        "df.isna().sum()"
      ],
      "execution_count": null,
      "outputs": [
        {
          "output_type": "execute_result",
          "data": {
            "text/plain": [
              "code                      0\n",
              "province                  0\n",
              "date                      0\n",
              "avg_temp                 15\n",
              "min_temp                  5\n",
              "max_temp                  3\n",
              "precipitation             0\n",
              "max_wind_speed            9\n",
              "most_wind_direction      29\n",
              "avg_relative_humidity    20\n",
              "dtype: int64"
            ]
          },
          "metadata": {
            "tags": []
          },
          "execution_count": 7
        }
      ]
    },
    {
      "cell_type": "markdown",
      "metadata": {
        "id": "YrNLN25zmLsg"
      },
      "source": [
        "### Here we have total 6 columns that has missing values -\n",
        " - **avg_temp** column has 15 missing values\n",
        " - **min_temp** column has 5 empty cell\n",
        " - **max_temp** has 3 empty values\n",
        " - **max_wind_speed** has 9 null entry\n",
        " - **most_wind_direction**  has 29 missing values\n",
        " - **avg_relative_humidity** column has 20 missing values."
      ]
    },
    {
      "cell_type": "markdown",
      "metadata": {
        "id": "IOtqHtg-RFdZ"
      },
      "source": [
        "### Dropping Null Values"
      ]
    },
    {
      "cell_type": "code",
      "metadata": {
        "id": "EKm6-_pARLE-"
      },
      "source": [
        "df.dropna(axis='index', how='all', inplace=True)"
      ],
      "execution_count": null,
      "outputs": []
    },
    {
      "cell_type": "code",
      "metadata": {
        "id": "J-QSI4lGSB_e",
        "outputId": "f960037f-f989-41e6-94ab-a723bcc4f998",
        "colab": {
          "base_uri": "https://localhost:8080/",
          "height": 204
        }
      },
      "source": [
        "df.isna().sum()"
      ],
      "execution_count": null,
      "outputs": [
        {
          "output_type": "execute_result",
          "data": {
            "text/plain": [
              "code                      0\n",
              "province                  0\n",
              "date                      0\n",
              "avg_temp                 15\n",
              "min_temp                  5\n",
              "max_temp                  3\n",
              "precipitation             0\n",
              "max_wind_speed            9\n",
              "most_wind_direction      29\n",
              "avg_relative_humidity    20\n",
              "dtype: int64"
            ]
          },
          "metadata": {
            "tags": []
          },
          "execution_count": 99
        }
      ]
    },
    {
      "cell_type": "code",
      "metadata": {
        "id": "kQuFzW1XSmOX"
      },
      "source": [
        "df.dropna(axis='index', how='any', inplace=True)"
      ],
      "execution_count": null,
      "outputs": []
    },
    {
      "cell_type": "code",
      "metadata": {
        "id": "7Fq9T9MzSvAP",
        "outputId": "650c6b9b-2a29-4d43-a816-ee5a43946b75",
        "colab": {
          "base_uri": "https://localhost:8080/",
          "height": 204
        }
      },
      "source": [
        "df.isna().sum()"
      ],
      "execution_count": null,
      "outputs": [
        {
          "output_type": "execute_result",
          "data": {
            "text/plain": [
              "code                     0\n",
              "province                 0\n",
              "date                     0\n",
              "avg_temp                 0\n",
              "min_temp                 0\n",
              "max_temp                 0\n",
              "precipitation            0\n",
              "max_wind_speed           0\n",
              "most_wind_direction      0\n",
              "avg_relative_humidity    0\n",
              "dtype: int64"
            ]
          },
          "metadata": {
            "tags": []
          },
          "execution_count": 113
        }
      ]
    },
    {
      "cell_type": "code",
      "metadata": {
        "id": "5pZ3I22-3f2r",
        "outputId": "10fbd250-3102-4770-cf2f-5a0584991d70",
        "colab": {
          "base_uri": "https://localhost:8080/",
          "height": 34
        }
      },
      "source": [
        "len(df)"
      ],
      "execution_count": null,
      "outputs": [
        {
          "output_type": "execute_result",
          "data": {
            "text/plain": [
              "26224"
            ]
          },
          "metadata": {
            "tags": []
          },
          "execution_count": 114
        }
      ]
    },
    {
      "cell_type": "markdown",
      "metadata": {
        "id": "Ib7_TYIRo7jL"
      },
      "source": [
        "### Checking the dataframe where we have these missing values\n",
        "\n",
        "---\n",
        "\n"
      ]
    },
    {
      "cell_type": "code",
      "metadata": {
        "id": "QYALFiKpNVwn"
      },
      "source": [
        "# df.isna().any()"
      ],
      "execution_count": null,
      "outputs": []
    },
    {
      "cell_type": "code",
      "metadata": {
        "id": "WDEEkBiDlKuM"
      },
      "source": [
        "empty_avg_temp_df = df[df['avg_temp'].isnull()]"
      ],
      "execution_count": null,
      "outputs": []
    },
    {
      "cell_type": "code",
      "metadata": {
        "id": "Z3h-nl9w182L",
        "outputId": "14a79eb7-3e3f-4e7b-d537-25fe019a8519",
        "colab": {
          "base_uri": "https://localhost:8080/",
          "height": 34
        }
      },
      "source": [
        "len(empty_avg_temp_df)"
      ],
      "execution_count": null,
      "outputs": [
        {
          "output_type": "execute_result",
          "data": {
            "text/plain": [
              "0"
            ]
          },
          "metadata": {
            "tags": []
          },
          "execution_count": 111
        }
      ]
    },
    {
      "cell_type": "markdown",
      "metadata": {
        "id": "mB2JmPhqTq80"
      },
      "source": [
        "### Dropna Subset Argument"
      ]
    },
    {
      "cell_type": "code",
      "metadata": {
        "id": "pxdtmVi6Tx5l",
        "outputId": "014b3a5a-a5b6-4acc-d7c0-a6009fda99a4",
        "colab": {
          "base_uri": "https://localhost:8080/",
          "height": 102
        }
      },
      "source": [
        "empty_avg_temp_df.dropna(axis=0, how='any', subset=['avg_temp', 'most_wind_direction'], inplace=True)"
      ],
      "execution_count": null,
      "outputs": [
        {
          "output_type": "stream",
          "text": [
            "/usr/local/lib/python3.6/dist-packages/ipykernel_launcher.py:1: SettingWithCopyWarning: \n",
            "A value is trying to be set on a copy of a slice from a DataFrame\n",
            "\n",
            "See the caveats in the documentation: https://pandas.pydata.org/pandas-docs/stable/user_guide/indexing.html#returning-a-view-versus-a-copy\n",
            "  \"\"\"Entry point for launching an IPython kernel.\n"
          ],
          "name": "stderr"
        }
      ]
    },
    {
      "cell_type": "markdown",
      "metadata": {
        "id": "t4sSkWnQafjs"
      },
      "source": [
        "For accepting two values after decimal point we applied the round method."
      ]
    },
    {
      "cell_type": "markdown",
      "metadata": {
        "id": "EWTB3CLqVewf"
      },
      "source": [
        "## Using fillna() replacing NaN values in **avg_temp** column with Avg values\n",
        "For replacing any specific value in a colum, we can use the *replace('value_we_want_to_replace', 'value_with')* method."
      ]
    },
    {
      "cell_type": "markdown",
      "metadata": {
        "id": "LF57BZb387Xt"
      },
      "source": [
        "#### Cheking **avg_temp** data type"
      ]
    },
    {
      "cell_type": "code",
      "metadata": {
        "id": "A602iTfE80r3",
        "outputId": "f0f3688e-9b23-4132-ca75-975d137c63eb",
        "colab": {
          "base_uri": "https://localhost:8080/",
          "height": 34
        }
      },
      "source": [
        "df['avg_temp'].dtypes"
      ],
      "execution_count": null,
      "outputs": [
        {
          "output_type": "execute_result",
          "data": {
            "text/plain": [
              "dtype('float64')"
            ]
          },
          "metadata": {
            "tags": []
          },
          "execution_count": 127
        }
      ]
    },
    {
      "cell_type": "markdown",
      "metadata": {
        "id": "D9D8BMFpU3vs"
      },
      "source": [
        "Average Value of avg_temp\tcolumn. We can use this avg value to replace the nan values using dataframe fillna() method."
      ]
    },
    {
      "cell_type": "code",
      "metadata": {
        "id": "D9t_AcS5owR-",
        "outputId": "dc66b5a4-ea19-4c9d-a4f7-0cb1c793cc72",
        "colab": {
          "base_uri": "https://localhost:8080/",
          "height": 34
        }
      },
      "source": [
        "avg = round(df['avg_temp'].mean(),2)\n",
        "avg"
      ],
      "execution_count": null,
      "outputs": [
        {
          "output_type": "execute_result",
          "data": {
            "text/plain": [
              "13.86"
            ]
          },
          "metadata": {
            "tags": []
          },
          "execution_count": 128
        }
      ]
    },
    {
      "cell_type": "code",
      "metadata": {
        "id": "4LkIog7WVbHX"
      },
      "source": [
        "df['avg_temp'].fillna(avg, inplace=True)"
      ],
      "execution_count": null,
      "outputs": []
    },
    {
      "cell_type": "markdown",
      "metadata": {
        "id": "6maJA0CmWpPX"
      },
      "source": [
        "Checking avg_temp\tColumn where we replace nan with avg values."
      ]
    },
    {
      "cell_type": "code",
      "metadata": {
        "id": "SwdWhp3dV_oP",
        "outputId": "51046646-d0c0-41fc-c2da-d17375aad1aa",
        "colab": {
          "base_uri": "https://localhost:8080/",
          "height": 514
        }
      },
      "source": [
        "df.loc[(df['avg_temp']==avg)]"
      ],
      "execution_count": null,
      "outputs": [
        {
          "output_type": "execute_result",
          "data": {
            "text/html": [
              "<div>\n",
              "<style scoped>\n",
              "    .dataframe tbody tr th:only-of-type {\n",
              "        vertical-align: middle;\n",
              "    }\n",
              "\n",
              "    .dataframe tbody tr th {\n",
              "        vertical-align: top;\n",
              "    }\n",
              "\n",
              "    .dataframe thead th {\n",
              "        text-align: right;\n",
              "    }\n",
              "</style>\n",
              "<table border=\"1\" class=\"dataframe\">\n",
              "  <thead>\n",
              "    <tr style=\"text-align: right;\">\n",
              "      <th></th>\n",
              "      <th>code</th>\n",
              "      <th>province</th>\n",
              "      <th>date</th>\n",
              "      <th>avg_temp</th>\n",
              "      <th>min_temp</th>\n",
              "      <th>max_temp</th>\n",
              "      <th>precipitation</th>\n",
              "      <th>max_wind_speed</th>\n",
              "      <th>most_wind_direction</th>\n",
              "      <th>avg_relative_humidity</th>\n",
              "    </tr>\n",
              "  </thead>\n",
              "  <tbody>\n",
              "    <tr>\n",
              "      <th>5693</th>\n",
              "      <td>60000</td>\n",
              "      <td>Gyeongsangbuk-do</td>\n",
              "      <td>2016-12-21</td>\n",
              "      <td>13.86</td>\n",
              "      <td>4.2</td>\n",
              "      <td>15.4</td>\n",
              "      <td>10.0</td>\n",
              "      <td>3.3</td>\n",
              "      <td>NaN</td>\n",
              "      <td>NaN</td>\n",
              "    </tr>\n",
              "    <tr>\n",
              "      <th>6861</th>\n",
              "      <td>60000</td>\n",
              "      <td>Gyeongsangbuk-do</td>\n",
              "      <td>2017-03-04</td>\n",
              "      <td>13.86</td>\n",
              "      <td>2.2</td>\n",
              "      <td>14.7</td>\n",
              "      <td>0.0</td>\n",
              "      <td>6.0</td>\n",
              "      <td>50.0</td>\n",
              "      <td>47.3</td>\n",
              "    </tr>\n",
              "    <tr>\n",
              "      <th>9197</th>\n",
              "      <td>60000</td>\n",
              "      <td>Gyeongsangbuk-do</td>\n",
              "      <td>2017-07-28</td>\n",
              "      <td>13.86</td>\n",
              "      <td>19.2</td>\n",
              "      <td>28.9</td>\n",
              "      <td>14.5</td>\n",
              "      <td>3.9</td>\n",
              "      <td>NaN</td>\n",
              "      <td>NaN</td>\n",
              "    </tr>\n",
              "    <tr>\n",
              "      <th>9202</th>\n",
              "      <td>12000</td>\n",
              "      <td>Daegu</td>\n",
              "      <td>2017-07-29</td>\n",
              "      <td>13.86</td>\n",
              "      <td>21.5</td>\n",
              "      <td>26.2</td>\n",
              "      <td>30.0</td>\n",
              "      <td>5.2</td>\n",
              "      <td>140.0</td>\n",
              "      <td>91.3</td>\n",
              "    </tr>\n",
              "    <tr>\n",
              "      <th>11482</th>\n",
              "      <td>41000</td>\n",
              "      <td>Chungcheongnam-do</td>\n",
              "      <td>2017-12-18</td>\n",
              "      <td>13.86</td>\n",
              "      <td>-5.0</td>\n",
              "      <td>6.8</td>\n",
              "      <td>0.3</td>\n",
              "      <td>5.8</td>\n",
              "      <td>250.0</td>\n",
              "      <td>NaN</td>\n",
              "    </tr>\n",
              "    <tr>\n",
              "      <th>11642</th>\n",
              "      <td>41000</td>\n",
              "      <td>Chungcheongnam-do</td>\n",
              "      <td>2017-12-28</td>\n",
              "      <td>13.86</td>\n",
              "      <td>-7.8</td>\n",
              "      <td>NaN</td>\n",
              "      <td>0.0</td>\n",
              "      <td>1.5</td>\n",
              "      <td>NaN</td>\n",
              "      <td>NaN</td>\n",
              "    </tr>\n",
              "    <tr>\n",
              "      <th>11737</th>\n",
              "      <td>41000</td>\n",
              "      <td>Chungcheongnam-do</td>\n",
              "      <td>2018-01-03</td>\n",
              "      <td>13.86</td>\n",
              "      <td>NaN</td>\n",
              "      <td>-0.2</td>\n",
              "      <td>0.0</td>\n",
              "      <td>5.1</td>\n",
              "      <td>NaN</td>\n",
              "      <td>NaN</td>\n",
              "    </tr>\n",
              "    <tr>\n",
              "      <th>13736</th>\n",
              "      <td>40000</td>\n",
              "      <td>Chungcheongbuk-do</td>\n",
              "      <td>2018-05-08</td>\n",
              "      <td>13.86</td>\n",
              "      <td>11.5</td>\n",
              "      <td>20.1</td>\n",
              "      <td>0.0</td>\n",
              "      <td>6.4</td>\n",
              "      <td>90.0</td>\n",
              "      <td>NaN</td>\n",
              "    </tr>\n",
              "    <tr>\n",
              "      <th>14969</th>\n",
              "      <td>41000</td>\n",
              "      <td>Chungcheongnam-do</td>\n",
              "      <td>2018-07-24</td>\n",
              "      <td>13.86</td>\n",
              "      <td>23.8</td>\n",
              "      <td>32.6</td>\n",
              "      <td>0.0</td>\n",
              "      <td>3.1</td>\n",
              "      <td>NaN</td>\n",
              "      <td>NaN</td>\n",
              "    </tr>\n",
              "    <tr>\n",
              "      <th>18697</th>\n",
              "      <td>41000</td>\n",
              "      <td>Chungcheongnam-do</td>\n",
              "      <td>2019-03-14</td>\n",
              "      <td>13.86</td>\n",
              "      <td>-5.6</td>\n",
              "      <td>10.8</td>\n",
              "      <td>0.0</td>\n",
              "      <td>5.3</td>\n",
              "      <td>NaN</td>\n",
              "      <td>NaN</td>\n",
              "    </tr>\n",
              "    <tr>\n",
              "      <th>19961</th>\n",
              "      <td>41000</td>\n",
              "      <td>Chungcheongnam-do</td>\n",
              "      <td>2019-06-01</td>\n",
              "      <td>13.86</td>\n",
              "      <td>NaN</td>\n",
              "      <td>22.0</td>\n",
              "      <td>0.0</td>\n",
              "      <td>3.8</td>\n",
              "      <td>NaN</td>\n",
              "      <td>NaN</td>\n",
              "    </tr>\n",
              "    <tr>\n",
              "      <th>20825</th>\n",
              "      <td>41000</td>\n",
              "      <td>Chungcheongnam-do</td>\n",
              "      <td>2019-07-25</td>\n",
              "      <td>13.86</td>\n",
              "      <td>NaN</td>\n",
              "      <td>25.9</td>\n",
              "      <td>0.0</td>\n",
              "      <td>NaN</td>\n",
              "      <td>NaN</td>\n",
              "      <td>NaN</td>\n",
              "    </tr>\n",
              "    <tr>\n",
              "      <th>20953</th>\n",
              "      <td>41000</td>\n",
              "      <td>Chungcheongnam-do</td>\n",
              "      <td>2019-08-02</td>\n",
              "      <td>13.86</td>\n",
              "      <td>NaN</td>\n",
              "      <td>32.3</td>\n",
              "      <td>0.0</td>\n",
              "      <td>3.8</td>\n",
              "      <td>NaN</td>\n",
              "      <td>NaN</td>\n",
              "    </tr>\n",
              "    <tr>\n",
              "      <th>21788</th>\n",
              "      <td>60000</td>\n",
              "      <td>Gyeongsangbuk-do</td>\n",
              "      <td>2019-09-23</td>\n",
              "      <td>13.86</td>\n",
              "      <td>14.7</td>\n",
              "      <td>23.3</td>\n",
              "      <td>0.0</td>\n",
              "      <td>16.7</td>\n",
              "      <td>NaN</td>\n",
              "      <td>NaN</td>\n",
              "    </tr>\n",
              "    <tr>\n",
              "      <th>21804</th>\n",
              "      <td>60000</td>\n",
              "      <td>Gyeongsangbuk-do</td>\n",
              "      <td>2019-09-24</td>\n",
              "      <td>13.86</td>\n",
              "      <td>12.1</td>\n",
              "      <td>25.1</td>\n",
              "      <td>0.0</td>\n",
              "      <td>3.2</td>\n",
              "      <td>NaN</td>\n",
              "      <td>NaN</td>\n",
              "    </tr>\n",
              "  </tbody>\n",
              "</table>\n",
              "</div>"
            ],
            "text/plain": [
              "        code           province  ... most_wind_direction  avg_relative_humidity\n",
              "5693   60000   Gyeongsangbuk-do  ...                 NaN                    NaN\n",
              "6861   60000   Gyeongsangbuk-do  ...                50.0                   47.3\n",
              "9197   60000   Gyeongsangbuk-do  ...                 NaN                    NaN\n",
              "9202   12000              Daegu  ...               140.0                   91.3\n",
              "11482  41000  Chungcheongnam-do  ...               250.0                    NaN\n",
              "11642  41000  Chungcheongnam-do  ...                 NaN                    NaN\n",
              "11737  41000  Chungcheongnam-do  ...                 NaN                    NaN\n",
              "13736  40000  Chungcheongbuk-do  ...                90.0                    NaN\n",
              "14969  41000  Chungcheongnam-do  ...                 NaN                    NaN\n",
              "18697  41000  Chungcheongnam-do  ...                 NaN                    NaN\n",
              "19961  41000  Chungcheongnam-do  ...                 NaN                    NaN\n",
              "20825  41000  Chungcheongnam-do  ...                 NaN                    NaN\n",
              "20953  41000  Chungcheongnam-do  ...                 NaN                    NaN\n",
              "21788  60000   Gyeongsangbuk-do  ...                 NaN                    NaN\n",
              "21804  60000   Gyeongsangbuk-do  ...                 NaN                    NaN\n",
              "\n",
              "[15 rows x 10 columns]"
            ]
          },
          "metadata": {
            "tags": []
          },
          "execution_count": 130
        }
      ]
    },
    {
      "cell_type": "markdown",
      "metadata": {
        "id": "-dzsJdoBW0z0"
      },
      "source": [
        "Checking if the NaN values are really replaced"
      ]
    },
    {
      "cell_type": "code",
      "metadata": {
        "id": "sO_56duPXALH"
      },
      "source": [
        "# df['avg_temp'].isna().sum()"
      ],
      "execution_count": null,
      "outputs": []
    },
    {
      "cell_type": "code",
      "metadata": {
        "id": "tri2-vdaLLxW",
        "outputId": "5b7955e5-befb-449d-f26b-5456769ad7d2",
        "colab": {
          "base_uri": "https://localhost:8080/",
          "height": 34
        }
      },
      "source": [
        "df['avg_temp'].median()"
      ],
      "execution_count": null,
      "outputs": [
        {
          "output_type": "execute_result",
          "data": {
            "text/plain": [
              "14.6"
            ]
          },
          "metadata": {
            "tags": []
          },
          "execution_count": 5
        }
      ]
    },
    {
      "cell_type": "markdown",
      "metadata": {
        "id": "T-jZf-5uLbgq"
      },
      "source": [
        "NaN value by default is a float type object"
      ]
    },
    {
      "cell_type": "code",
      "metadata": {
        "id": "9Vy17jMlLw5O",
        "outputId": "7c0ca2a8-444c-4119-e99d-2774f87c9b64",
        "colab": {
          "base_uri": "https://localhost:8080/",
          "height": 34
        }
      },
      "source": [
        "type(np.nan)"
      ],
      "execution_count": null,
      "outputs": [
        {
          "output_type": "execute_result",
          "data": {
            "text/plain": [
              "float"
            ]
          },
          "metadata": {
            "tags": []
          },
          "execution_count": 6
        }
      ]
    },
    {
      "cell_type": "code",
      "metadata": {
        "id": "vUdZ-dYwLTgs",
        "outputId": "10cd231d-a76c-4568-f5fe-23009b02b368",
        "colab": {
          "base_uri": "https://localhost:8080/",
          "height": 204
        }
      },
      "source": [
        "df.dtypes"
      ],
      "execution_count": null,
      "outputs": [
        {
          "output_type": "execute_result",
          "data": {
            "text/plain": [
              "code                       int64\n",
              "province                  object\n",
              "date                      object\n",
              "avg_temp                 float64\n",
              "min_temp                 float64\n",
              "max_temp                 float64\n",
              "precipitation            float64\n",
              "max_wind_speed           float64\n",
              "most_wind_direction      float64\n",
              "avg_relative_humidity    float64\n",
              "dtype: object"
            ]
          },
          "metadata": {
            "tags": []
          },
          "execution_count": 7
        }
      ]
    },
    {
      "cell_type": "markdown",
      "metadata": {
        "id": "RPKShyim9OdH"
      },
      "source": [
        "## Typecasting [astype() Method]\n",
        "\n",
        "The as-type method provides a way to convert any column type to a specific data type. It is especially helpful when performing any mathematical operation on that column. Suppose here we want to calculate the average of the avg_temp column, but the column is not an integer or float type. So in that case, the as-type method helps to convert the column in the desired data type."
      ]
    },
    {
      "cell_type": "code",
      "metadata": {
        "id": "XzdJ2kwDtzqQ"
      },
      "source": [
        "df['avg_temp'] = df['avg_temp'].astype(str)"
      ],
      "execution_count": null,
      "outputs": []
    },
    {
      "cell_type": "markdown",
      "metadata": {
        "id": "zEkeMuvTJzwb"
      },
      "source": [
        "Checking the data type of avg_temp again"
      ]
    },
    {
      "cell_type": "code",
      "metadata": {
        "id": "dCW9HGxWKHeg",
        "outputId": "41a9e869-ec5e-4f18-ccf4-da045a5bb5bb",
        "colab": {
          "base_uri": "https://localhost:8080/",
          "height": 34
        }
      },
      "source": [
        "df['avg_temp'].dtypes\n",
        "# type(df.avg_temp)"
      ],
      "execution_count": null,
      "outputs": [
        {
          "output_type": "execute_result",
          "data": {
            "text/plain": [
              "dtype('O')"
            ]
          },
          "metadata": {
            "tags": []
          },
          "execution_count": 9
        }
      ]
    },
    {
      "cell_type": "code",
      "metadata": {
        "id": "LQf4pLNmNhgK",
        "outputId": "03aee2a3-c3bf-4c57-afa7-41a8fa573298",
        "colab": {
          "base_uri": "https://localhost:8080/",
          "height": 204
        }
      },
      "source": [
        "df.dtypes"
      ],
      "execution_count": null,
      "outputs": [
        {
          "output_type": "execute_result",
          "data": {
            "text/plain": [
              "code                       int64\n",
              "province                  object\n",
              "date                      object\n",
              "avg_temp                  object\n",
              "min_temp                 float64\n",
              "max_temp                 float64\n",
              "precipitation            float64\n",
              "max_wind_speed           float64\n",
              "most_wind_direction      float64\n",
              "avg_relative_humidity    float64\n",
              "dtype: object"
            ]
          },
          "metadata": {
            "tags": []
          },
          "execution_count": 10
        }
      ]
    },
    {
      "cell_type": "markdown",
      "metadata": {
        "id": "BWOEIrzfNzJk"
      },
      "source": [
        "#### types other than float or integer this types of operation is not allowed"
      ]
    },
    {
      "cell_type": "code",
      "metadata": {
        "id": "kbG_Kk77NNfl"
      },
      "source": [
        "df['avg_temp'].mean()"
      ],
      "execution_count": null,
      "outputs": []
    },
    {
      "cell_type": "markdown",
      "metadata": {
        "id": "uIyyN4daXPcL"
      },
      "source": [
        "### Converting Object to float type"
      ]
    },
    {
      "cell_type": "code",
      "metadata": {
        "id": "sw_NMGw3XXSd"
      },
      "source": [
        "df['avg_temp'] = df['avg_temp'].astype(float)"
      ],
      "execution_count": null,
      "outputs": []
    },
    {
      "cell_type": "markdown",
      "metadata": {
        "id": "t_jjh_2mXi6f"
      },
      "source": [
        "now can count mean easily"
      ]
    },
    {
      "cell_type": "code",
      "metadata": {
        "id": "vQXwRKZKXhlx",
        "outputId": "5aad36ff-8ee9-4de5-cb27-742a90b02eac",
        "colab": {
          "base_uri": "https://localhost:8080/",
          "height": 34
        }
      },
      "source": [
        "df['avg_temp'].mean()"
      ],
      "execution_count": null,
      "outputs": [
        {
          "output_type": "execute_result",
          "data": {
            "text/plain": [
              "13.859422608165788"
            ]
          },
          "metadata": {
            "tags": []
          },
          "execution_count": 13
        }
      ]
    },
    {
      "cell_type": "markdown",
      "metadata": {
        "id": "iP4So9m8XvgN"
      },
      "source": [
        "______________________________________________________________________\n",
        "# Replacing Values | Imputation\n",
        "Imputation is a term that denotes a procedure that replaces the missing values in a\n",
        "data set by some plausible values"
      ]
    },
    {
      "cell_type": "markdown",
      "metadata": {
        "id": "8Vbe2qGWb_4B"
      },
      "source": [
        "## Clecking Unique values in a column"
      ]
    },
    {
      "cell_type": "code",
      "metadata": {
        "id": "L-Q81XMpLnyB",
        "outputId": "2a897a95-a59e-4935-aedb-79f89ed599bc",
        "colab": {
          "base_uri": "https://localhost:8080/",
          "height": 306
        }
      },
      "source": [
        "# df['avg_temp'].unique()\n",
        "df['province'].unique().tolist()"
      ],
      "execution_count": null,
      "outputs": [
        {
          "output_type": "execute_result",
          "data": {
            "text/plain": [
              "['Seoul',\n",
              " 'Busan',\n",
              " 'Daegu',\n",
              " 'Gwangju',\n",
              " 'Incheon',\n",
              " 'Daejeon',\n",
              " 'Ulsan',\n",
              " 'Gyeonggi-do',\n",
              " 'Gangwon-do',\n",
              " 'Chungcheongbuk-do',\n",
              " 'Chungcheongnam-do',\n",
              " 'Jeollabuk-do',\n",
              " 'Jeollanam-do',\n",
              " 'Gyeongsangbuk-do',\n",
              " 'Gyeongsangnam-do',\n",
              " 'Jeju-do',\n",
              " 'Chunghceongbuk-do']"
            ]
          },
          "metadata": {
            "tags": []
          },
          "execution_count": 30
        }
      ]
    },
    {
      "cell_type": "markdown",
      "metadata": {
        "id": "8A82vFaAch4I"
      },
      "source": [
        "### Counting the Unique values"
      ]
    },
    {
      "cell_type": "code",
      "metadata": {
        "id": "odQ3V468cWbz",
        "outputId": "81b3f52c-70e7-4ac9-e3ae-7d9c490e21c5",
        "colab": {
          "base_uri": "https://localhost:8080/",
          "height": 323
        }
      },
      "source": [
        "df['province'].value_counts()"
      ],
      "execution_count": null,
      "outputs": [
        {
          "output_type": "execute_result",
          "data": {
            "text/plain": [
              "Busan                1642\n",
              "Gangwon-do           1642\n",
              "Gyeongsangnam-do     1642\n",
              "Seoul                1642\n",
              "Daejeon              1642\n",
              "Gwangju              1642\n",
              "Gyeonggi-do          1642\n",
              "Jeju-do              1642\n",
              "Daegu                1642\n",
              "Jeollanam-do         1642\n",
              "Gyeongsangbuk-do     1642\n",
              "Ulsan                1642\n",
              "Incheon              1642\n",
              "Jeollabuk-do         1642\n",
              "Chungcheongnam-do    1641\n",
              "Chungcheongbuk-do    1613\n",
              "Chunghceongbuk-do      29\n",
              "Name: province, dtype: int64"
            ]
          },
          "metadata": {
            "tags": []
          },
          "execution_count": 31
        }
      ]
    },
    {
      "cell_type": "markdown",
      "metadata": {
        "id": "LMzeIsMJc6y7"
      },
      "source": [
        "As we can see here a province name has been misspelled. So we want to replace the misspelled value with the correct one. we will replace -\n",
        "**Chunghceongbuk-do**, with  **Chungcheongbuk-do**"
      ]
    },
    {
      "cell_type": "markdown",
      "metadata": {
        "id": "EwGgC3nucM4C"
      },
      "source": [
        "### Replacing a Value"
      ]
    },
    {
      "cell_type": "code",
      "metadata": {
        "id": "5aK131vob7yK"
      },
      "source": [
        "df['province'].replace('Chunghceongbuk-do', 'Chungcheongbuk-do', inplace=True)"
      ],
      "execution_count": null,
      "outputs": []
    },
    {
      "cell_type": "code",
      "metadata": {
        "id": "WejhmPyIdyXb",
        "outputId": "668706c4-d7e7-4d5d-8331-be806bbf9ac1",
        "colab": {
          "base_uri": "https://localhost:8080/",
          "height": 306
        }
      },
      "source": [
        "df['province'].value_counts()"
      ],
      "execution_count": null,
      "outputs": [
        {
          "output_type": "execute_result",
          "data": {
            "text/plain": [
              "Gangwon-do           1642\n",
              "Jeollabuk-do         1642\n",
              "Incheon              1642\n",
              "Ulsan                1642\n",
              "Gyeongsangbuk-do     1642\n",
              "Jeollanam-do         1642\n",
              "Chungcheongbuk-do    1642\n",
              "Busan                1642\n",
              "Jeju-do              1642\n",
              "Gyeonggi-do          1642\n",
              "Gwangju              1642\n",
              "Daejeon              1642\n",
              "Seoul                1642\n",
              "Gyeongsangnam-do     1642\n",
              "Daegu                1642\n",
              "Chungcheongnam-do    1641\n",
              "Name: province, dtype: int64"
            ]
          },
          "metadata": {
            "tags": []
          },
          "execution_count": 33
        }
      ]
    },
    {
      "cell_type": "markdown",
      "metadata": {
        "id": "5ytjUYwC17Xk"
      },
      "source": [
        "# Removing Duplicaed Values"
      ]
    },
    {
      "cell_type": "code",
      "metadata": {
        "id": "wej9ceY-197o",
        "outputId": "5bff373d-b24a-410b-cdf0-f105f6c89b1b",
        "colab": {
          "base_uri": "https://localhost:8080/",
          "height": 34
        }
      },
      "source": [
        "df.duplicated().any()"
      ],
      "execution_count": null,
      "outputs": [
        {
          "output_type": "execute_result",
          "data": {
            "text/plain": [
              "False"
            ]
          },
          "metadata": {
            "tags": []
          },
          "execution_count": 29
        }
      ]
    },
    {
      "cell_type": "markdown",
      "metadata": {
        "id": "v0Fl_nv532-R"
      },
      "source": [
        "#### Let's insert a duplicate row"
      ]
    },
    {
      "cell_type": "code",
      "metadata": {
        "id": "jYj-hnUZ2AdZ",
        "outputId": "b8842b3b-4ca6-4931-9381-d48b517b16a8",
        "colab": {
          "base_uri": "https://localhost:8080/",
          "height": 34
        }
      },
      "source": [
        "len(df)"
      ],
      "execution_count": null,
      "outputs": [
        {
          "output_type": "execute_result",
          "data": {
            "text/plain": [
              "25572"
            ]
          },
          "metadata": {
            "tags": []
          },
          "execution_count": 30
        }
      ]
    },
    {
      "cell_type": "code",
      "metadata": {
        "id": "uMdpT3QJ4NNa",
        "outputId": "7848d8c9-cf77-4908-bd56-f56e199d7b48",
        "colab": {
          "base_uri": "https://localhost:8080/",
          "height": 204
        }
      },
      "source": [
        "df.tail()"
      ],
      "execution_count": null,
      "outputs": [
        {
          "output_type": "execute_result",
          "data": {
            "text/html": [
              "<div>\n",
              "<style scoped>\n",
              "    .dataframe tbody tr th:only-of-type {\n",
              "        vertical-align: middle;\n",
              "    }\n",
              "\n",
              "    .dataframe tbody tr th {\n",
              "        vertical-align: top;\n",
              "    }\n",
              "\n",
              "    .dataframe thead th {\n",
              "        text-align: right;\n",
              "    }\n",
              "</style>\n",
              "<table border=\"1\" class=\"dataframe\">\n",
              "  <thead>\n",
              "    <tr style=\"text-align: right;\">\n",
              "      <th></th>\n",
              "      <th>code</th>\n",
              "      <th>province</th>\n",
              "      <th>date</th>\n",
              "      <th>avg_temp</th>\n",
              "      <th>min_temp</th>\n",
              "      <th>max_temp</th>\n",
              "      <th>precipitation</th>\n",
              "      <th>max_wind_speed</th>\n",
              "      <th>most_wind_direction</th>\n",
              "      <th>avg_relative_humidity</th>\n",
              "    </tr>\n",
              "  </thead>\n",
              "  <tbody>\n",
              "    <tr>\n",
              "      <th>26265</th>\n",
              "      <td>41000</td>\n",
              "      <td>Chungcheongnam-do</td>\n",
              "      <td>2020-06-29</td>\n",
              "      <td>21.5</td>\n",
              "      <td>18.3</td>\n",
              "      <td>26.3</td>\n",
              "      <td>66.7</td>\n",
              "      <td>6.0</td>\n",
              "      <td>50.0</td>\n",
              "      <td>88.3</td>\n",
              "    </tr>\n",
              "    <tr>\n",
              "      <th>26266</th>\n",
              "      <td>50000</td>\n",
              "      <td>Jeollabuk-do</td>\n",
              "      <td>2020-06-29</td>\n",
              "      <td>22.0</td>\n",
              "      <td>19.7</td>\n",
              "      <td>26.5</td>\n",
              "      <td>27.6</td>\n",
              "      <td>4.4</td>\n",
              "      <td>90.0</td>\n",
              "      <td>85.1</td>\n",
              "    </tr>\n",
              "    <tr>\n",
              "      <th>26267</th>\n",
              "      <td>51000</td>\n",
              "      <td>Jeollanam-do</td>\n",
              "      <td>2020-06-29</td>\n",
              "      <td>21.9</td>\n",
              "      <td>20.0</td>\n",
              "      <td>24.0</td>\n",
              "      <td>80.5</td>\n",
              "      <td>16.8</td>\n",
              "      <td>90.0</td>\n",
              "      <td>97.9</td>\n",
              "    </tr>\n",
              "    <tr>\n",
              "      <th>26269</th>\n",
              "      <td>61000</td>\n",
              "      <td>Gyeongsangnam-do</td>\n",
              "      <td>2020-06-29</td>\n",
              "      <td>21.9</td>\n",
              "      <td>18.8</td>\n",
              "      <td>25.5</td>\n",
              "      <td>98.9</td>\n",
              "      <td>5.8</td>\n",
              "      <td>160.0</td>\n",
              "      <td>85.0</td>\n",
              "    </tr>\n",
              "    <tr>\n",
              "      <th>26270</th>\n",
              "      <td>70000</td>\n",
              "      <td>Jeju-do</td>\n",
              "      <td>2020-06-29</td>\n",
              "      <td>23.2</td>\n",
              "      <td>19.1</td>\n",
              "      <td>27.6</td>\n",
              "      <td>25.1</td>\n",
              "      <td>12.8</td>\n",
              "      <td>270.0</td>\n",
              "      <td>87.4</td>\n",
              "    </tr>\n",
              "  </tbody>\n",
              "</table>\n",
              "</div>"
            ],
            "text/plain": [
              "        code           province  ... most_wind_direction  avg_relative_humidity\n",
              "26265  41000  Chungcheongnam-do  ...                50.0                   88.3\n",
              "26266  50000       Jeollabuk-do  ...                90.0                   85.1\n",
              "26267  51000       Jeollanam-do  ...                90.0                   97.9\n",
              "26269  61000   Gyeongsangnam-do  ...               160.0                   85.0\n",
              "26270  70000            Jeju-do  ...               270.0                   87.4\n",
              "\n",
              "[5 rows x 10 columns]"
            ]
          },
          "metadata": {
            "tags": []
          },
          "execution_count": 31
        }
      ]
    },
    {
      "cell_type": "code",
      "metadata": {
        "id": "FnPeIac94BZs"
      },
      "source": [
        "df.loc[26272] = [70000, \t'Jeju-do', '2020-06-29', 23.2, 19.1, 27.6, 25.1, 12.8, 270.0, 87.4]"
      ],
      "execution_count": null,
      "outputs": []
    },
    {
      "cell_type": "code",
      "metadata": {
        "id": "Ksay7T7V4zHH",
        "outputId": "5795007d-b05a-4611-c98e-d06b14c956c3",
        "colab": {
          "base_uri": "https://localhost:8080/",
          "height": 204
        }
      },
      "source": [
        "df.tail()"
      ],
      "execution_count": null,
      "outputs": [
        {
          "output_type": "execute_result",
          "data": {
            "text/html": [
              "<div>\n",
              "<style scoped>\n",
              "    .dataframe tbody tr th:only-of-type {\n",
              "        vertical-align: middle;\n",
              "    }\n",
              "\n",
              "    .dataframe tbody tr th {\n",
              "        vertical-align: top;\n",
              "    }\n",
              "\n",
              "    .dataframe thead th {\n",
              "        text-align: right;\n",
              "    }\n",
              "</style>\n",
              "<table border=\"1\" class=\"dataframe\">\n",
              "  <thead>\n",
              "    <tr style=\"text-align: right;\">\n",
              "      <th></th>\n",
              "      <th>code</th>\n",
              "      <th>province</th>\n",
              "      <th>date</th>\n",
              "      <th>avg_temp</th>\n",
              "      <th>min_temp</th>\n",
              "      <th>max_temp</th>\n",
              "      <th>precipitation</th>\n",
              "      <th>max_wind_speed</th>\n",
              "      <th>most_wind_direction</th>\n",
              "      <th>avg_relative_humidity</th>\n",
              "    </tr>\n",
              "  </thead>\n",
              "  <tbody>\n",
              "    <tr>\n",
              "      <th>26266</th>\n",
              "      <td>50000</td>\n",
              "      <td>Jeollabuk-do</td>\n",
              "      <td>2020-06-29</td>\n",
              "      <td>22.0</td>\n",
              "      <td>19.7</td>\n",
              "      <td>26.5</td>\n",
              "      <td>27.6</td>\n",
              "      <td>4.4</td>\n",
              "      <td>90.0</td>\n",
              "      <td>85.1</td>\n",
              "    </tr>\n",
              "    <tr>\n",
              "      <th>26267</th>\n",
              "      <td>51000</td>\n",
              "      <td>Jeollanam-do</td>\n",
              "      <td>2020-06-29</td>\n",
              "      <td>21.9</td>\n",
              "      <td>20.0</td>\n",
              "      <td>24.0</td>\n",
              "      <td>80.5</td>\n",
              "      <td>16.8</td>\n",
              "      <td>90.0</td>\n",
              "      <td>97.9</td>\n",
              "    </tr>\n",
              "    <tr>\n",
              "      <th>26269</th>\n",
              "      <td>61000</td>\n",
              "      <td>Gyeongsangnam-do</td>\n",
              "      <td>2020-06-29</td>\n",
              "      <td>21.9</td>\n",
              "      <td>18.8</td>\n",
              "      <td>25.5</td>\n",
              "      <td>98.9</td>\n",
              "      <td>5.8</td>\n",
              "      <td>160.0</td>\n",
              "      <td>85.0</td>\n",
              "    </tr>\n",
              "    <tr>\n",
              "      <th>26270</th>\n",
              "      <td>70000</td>\n",
              "      <td>Jeju-do</td>\n",
              "      <td>2020-06-29</td>\n",
              "      <td>23.2</td>\n",
              "      <td>19.1</td>\n",
              "      <td>27.6</td>\n",
              "      <td>25.1</td>\n",
              "      <td>12.8</td>\n",
              "      <td>270.0</td>\n",
              "      <td>87.4</td>\n",
              "    </tr>\n",
              "    <tr>\n",
              "      <th>26272</th>\n",
              "      <td>70000</td>\n",
              "      <td>Jeju-do</td>\n",
              "      <td>2020-06-29</td>\n",
              "      <td>23.2</td>\n",
              "      <td>19.1</td>\n",
              "      <td>27.6</td>\n",
              "      <td>25.1</td>\n",
              "      <td>12.8</td>\n",
              "      <td>270.0</td>\n",
              "      <td>87.4</td>\n",
              "    </tr>\n",
              "  </tbody>\n",
              "</table>\n",
              "</div>"
            ],
            "text/plain": [
              "        code          province  ... most_wind_direction  avg_relative_humidity\n",
              "26266  50000      Jeollabuk-do  ...                90.0                   85.1\n",
              "26267  51000      Jeollanam-do  ...                90.0                   97.9\n",
              "26269  61000  Gyeongsangnam-do  ...               160.0                   85.0\n",
              "26270  70000           Jeju-do  ...               270.0                   87.4\n",
              "26272  70000           Jeju-do  ...               270.0                   87.4\n",
              "\n",
              "[5 rows x 10 columns]"
            ]
          },
          "metadata": {
            "tags": []
          },
          "execution_count": 33
        }
      ]
    },
    {
      "cell_type": "code",
      "metadata": {
        "id": "AoL1hs_l5FVx",
        "outputId": "2d5d4d49-b962-4085-cc19-7e8b5df20985",
        "colab": {
          "base_uri": "https://localhost:8080/",
          "height": 221
        }
      },
      "source": [
        "df.duplicated()"
      ],
      "execution_count": null,
      "outputs": [
        {
          "output_type": "execute_result",
          "data": {
            "text/plain": [
              "0        False\n",
              "1        False\n",
              "2        False\n",
              "3        False\n",
              "4        False\n",
              "         ...  \n",
              "26266    False\n",
              "26267    False\n",
              "26269    False\n",
              "26270    False\n",
              "26272     True\n",
              "Length: 25573, dtype: bool"
            ]
          },
          "metadata": {
            "tags": []
          },
          "execution_count": 34
        }
      ]
    },
    {
      "cell_type": "code",
      "metadata": {
        "id": "cLilo35O5JcY"
      },
      "source": [
        "df.drop_duplicates(inplace=True)"
      ],
      "execution_count": null,
      "outputs": []
    },
    {
      "cell_type": "code",
      "metadata": {
        "id": "dfM_KswssKfc",
        "outputId": "208e8763-551e-42bb-afe8-705efb338527",
        "colab": {
          "base_uri": "https://localhost:8080/",
          "height": 204
        }
      },
      "source": [
        "df.tail()"
      ],
      "execution_count": null,
      "outputs": [
        {
          "output_type": "execute_result",
          "data": {
            "text/html": [
              "<div>\n",
              "<style scoped>\n",
              "    .dataframe tbody tr th:only-of-type {\n",
              "        vertical-align: middle;\n",
              "    }\n",
              "\n",
              "    .dataframe tbody tr th {\n",
              "        vertical-align: top;\n",
              "    }\n",
              "\n",
              "    .dataframe thead th {\n",
              "        text-align: right;\n",
              "    }\n",
              "</style>\n",
              "<table border=\"1\" class=\"dataframe\">\n",
              "  <thead>\n",
              "    <tr style=\"text-align: right;\">\n",
              "      <th></th>\n",
              "      <th>code</th>\n",
              "      <th>province</th>\n",
              "      <th>date</th>\n",
              "      <th>avg_temp</th>\n",
              "      <th>min_temp</th>\n",
              "      <th>max_temp</th>\n",
              "      <th>precipitation</th>\n",
              "      <th>max_wind_speed</th>\n",
              "      <th>most_wind_direction</th>\n",
              "      <th>avg_relative_humidity</th>\n",
              "    </tr>\n",
              "  </thead>\n",
              "  <tbody>\n",
              "    <tr>\n",
              "      <th>26265</th>\n",
              "      <td>41000</td>\n",
              "      <td>Chungcheongnam-do</td>\n",
              "      <td>2020-06-29</td>\n",
              "      <td>21.5</td>\n",
              "      <td>18.3</td>\n",
              "      <td>26.3</td>\n",
              "      <td>66.7</td>\n",
              "      <td>6.0</td>\n",
              "      <td>50.0</td>\n",
              "      <td>88.3</td>\n",
              "    </tr>\n",
              "    <tr>\n",
              "      <th>26266</th>\n",
              "      <td>50000</td>\n",
              "      <td>Jeollabuk-do</td>\n",
              "      <td>2020-06-29</td>\n",
              "      <td>22.0</td>\n",
              "      <td>19.7</td>\n",
              "      <td>26.5</td>\n",
              "      <td>27.6</td>\n",
              "      <td>4.4</td>\n",
              "      <td>90.0</td>\n",
              "      <td>85.1</td>\n",
              "    </tr>\n",
              "    <tr>\n",
              "      <th>26267</th>\n",
              "      <td>51000</td>\n",
              "      <td>Jeollanam-do</td>\n",
              "      <td>2020-06-29</td>\n",
              "      <td>21.9</td>\n",
              "      <td>20.0</td>\n",
              "      <td>24.0</td>\n",
              "      <td>80.5</td>\n",
              "      <td>16.8</td>\n",
              "      <td>90.0</td>\n",
              "      <td>97.9</td>\n",
              "    </tr>\n",
              "    <tr>\n",
              "      <th>26269</th>\n",
              "      <td>61000</td>\n",
              "      <td>Gyeongsangnam-do</td>\n",
              "      <td>2020-06-29</td>\n",
              "      <td>21.9</td>\n",
              "      <td>18.8</td>\n",
              "      <td>25.5</td>\n",
              "      <td>98.9</td>\n",
              "      <td>5.8</td>\n",
              "      <td>160.0</td>\n",
              "      <td>85.0</td>\n",
              "    </tr>\n",
              "    <tr>\n",
              "      <th>26270</th>\n",
              "      <td>70000</td>\n",
              "      <td>Jeju-do</td>\n",
              "      <td>2020-06-29</td>\n",
              "      <td>23.2</td>\n",
              "      <td>19.1</td>\n",
              "      <td>27.6</td>\n",
              "      <td>25.1</td>\n",
              "      <td>12.8</td>\n",
              "      <td>270.0</td>\n",
              "      <td>87.4</td>\n",
              "    </tr>\n",
              "  </tbody>\n",
              "</table>\n",
              "</div>"
            ],
            "text/plain": [
              "        code           province  ... most_wind_direction  avg_relative_humidity\n",
              "26265  41000  Chungcheongnam-do  ...                50.0                   88.3\n",
              "26266  50000       Jeollabuk-do  ...                90.0                   85.1\n",
              "26267  51000       Jeollanam-do  ...                90.0                   97.9\n",
              "26269  61000   Gyeongsangnam-do  ...               160.0                   85.0\n",
              "26270  70000            Jeju-do  ...               270.0                   87.4\n",
              "\n",
              "[5 rows x 10 columns]"
            ]
          },
          "metadata": {
            "tags": []
          },
          "execution_count": 36
        }
      ]
    },
    {
      "cell_type": "markdown",
      "metadata": {
        "id": "likcatbJ5jWt"
      },
      "source": [
        "Drop row if duplicates exist in specific columns "
      ]
    },
    {
      "cell_type": "code",
      "metadata": {
        "id": "VKkNxGEX5ZEG"
      },
      "source": [
        "df.loc[26271] = [700001, \t'Jeju-do-do', '2020-06-29', 23.2, 19.1, 27.6, 25.1, 12.8, 270.0, 87.4]"
      ],
      "execution_count": null,
      "outputs": []
    },
    {
      "cell_type": "code",
      "metadata": {
        "id": "D8o1OU9K-lqn",
        "outputId": "687b8471-acaa-45bc-bbfb-830049da847f",
        "colab": {
          "base_uri": "https://localhost:8080/",
          "height": 204
        }
      },
      "source": [
        "df.tail()"
      ],
      "execution_count": null,
      "outputs": [
        {
          "output_type": "execute_result",
          "data": {
            "text/html": [
              "<div>\n",
              "<style scoped>\n",
              "    .dataframe tbody tr th:only-of-type {\n",
              "        vertical-align: middle;\n",
              "    }\n",
              "\n",
              "    .dataframe tbody tr th {\n",
              "        vertical-align: top;\n",
              "    }\n",
              "\n",
              "    .dataframe thead th {\n",
              "        text-align: right;\n",
              "    }\n",
              "</style>\n",
              "<table border=\"1\" class=\"dataframe\">\n",
              "  <thead>\n",
              "    <tr style=\"text-align: right;\">\n",
              "      <th></th>\n",
              "      <th>code</th>\n",
              "      <th>province</th>\n",
              "      <th>date</th>\n",
              "      <th>avg_temp</th>\n",
              "      <th>min_temp</th>\n",
              "      <th>max_temp</th>\n",
              "      <th>precipitation</th>\n",
              "      <th>max_wind_speed</th>\n",
              "      <th>most_wind_direction</th>\n",
              "      <th>avg_relative_humidity</th>\n",
              "    </tr>\n",
              "  </thead>\n",
              "  <tbody>\n",
              "    <tr>\n",
              "      <th>26266</th>\n",
              "      <td>50000</td>\n",
              "      <td>Jeollabuk-do</td>\n",
              "      <td>2020-06-29</td>\n",
              "      <td>22.0</td>\n",
              "      <td>19.7</td>\n",
              "      <td>26.5</td>\n",
              "      <td>27.6</td>\n",
              "      <td>4.4</td>\n",
              "      <td>90.0</td>\n",
              "      <td>85.1</td>\n",
              "    </tr>\n",
              "    <tr>\n",
              "      <th>26267</th>\n",
              "      <td>51000</td>\n",
              "      <td>Jeollanam-do</td>\n",
              "      <td>2020-06-29</td>\n",
              "      <td>21.9</td>\n",
              "      <td>20.0</td>\n",
              "      <td>24.0</td>\n",
              "      <td>80.5</td>\n",
              "      <td>16.8</td>\n",
              "      <td>90.0</td>\n",
              "      <td>97.9</td>\n",
              "    </tr>\n",
              "    <tr>\n",
              "      <th>26269</th>\n",
              "      <td>61000</td>\n",
              "      <td>Gyeongsangnam-do</td>\n",
              "      <td>2020-06-29</td>\n",
              "      <td>21.9</td>\n",
              "      <td>18.8</td>\n",
              "      <td>25.5</td>\n",
              "      <td>98.9</td>\n",
              "      <td>5.8</td>\n",
              "      <td>160.0</td>\n",
              "      <td>85.0</td>\n",
              "    </tr>\n",
              "    <tr>\n",
              "      <th>26270</th>\n",
              "      <td>70000</td>\n",
              "      <td>Jeju-do</td>\n",
              "      <td>2020-06-29</td>\n",
              "      <td>23.2</td>\n",
              "      <td>19.1</td>\n",
              "      <td>27.6</td>\n",
              "      <td>25.1</td>\n",
              "      <td>12.8</td>\n",
              "      <td>270.0</td>\n",
              "      <td>87.4</td>\n",
              "    </tr>\n",
              "    <tr>\n",
              "      <th>26271</th>\n",
              "      <td>700001</td>\n",
              "      <td>Jeju-do-do</td>\n",
              "      <td>2020-06-29</td>\n",
              "      <td>23.2</td>\n",
              "      <td>19.1</td>\n",
              "      <td>27.6</td>\n",
              "      <td>25.1</td>\n",
              "      <td>12.8</td>\n",
              "      <td>270.0</td>\n",
              "      <td>87.4</td>\n",
              "    </tr>\n",
              "  </tbody>\n",
              "</table>\n",
              "</div>"
            ],
            "text/plain": [
              "         code          province  ... most_wind_direction  avg_relative_humidity\n",
              "26266   50000      Jeollabuk-do  ...                90.0                   85.1\n",
              "26267   51000      Jeollanam-do  ...                90.0                   97.9\n",
              "26269   61000  Gyeongsangnam-do  ...               160.0                   85.0\n",
              "26270   70000           Jeju-do  ...               270.0                   87.4\n",
              "26271  700001        Jeju-do-do  ...               270.0                   87.4\n",
              "\n",
              "[5 rows x 10 columns]"
            ]
          },
          "metadata": {
            "tags": []
          },
          "execution_count": 38
        }
      ]
    },
    {
      "cell_type": "code",
      "metadata": {
        "id": "oURog8446B81",
        "outputId": "d8822777-5558-42e3-87d8-f2c5acad8ea4",
        "colab": {
          "base_uri": "https://localhost:8080/",
          "height": 306
        }
      },
      "source": [
        "df.drop_duplicates(['code\t', 'province'], inplace=True)"
      ],
      "execution_count": null,
      "outputs": [
        {
          "output_type": "error",
          "ename": "KeyError",
          "evalue": "ignored",
          "traceback": [
            "\u001b[0;31m---------------------------------------------------------------------------\u001b[0m",
            "\u001b[0;31mKeyError\u001b[0m                                  Traceback (most recent call last)",
            "\u001b[0;32m<ipython-input-39-4bd978e886b9>\u001b[0m in \u001b[0;36m<module>\u001b[0;34m()\u001b[0m\n\u001b[0;32m----> 1\u001b[0;31m \u001b[0mdf\u001b[0m\u001b[0;34m.\u001b[0m\u001b[0mdrop_duplicates\u001b[0m\u001b[0;34m(\u001b[0m\u001b[0;34m[\u001b[0m\u001b[0;34m'code       '\u001b[0m\u001b[0;34m,\u001b[0m \u001b[0;34m'province'\u001b[0m\u001b[0;34m]\u001b[0m\u001b[0;34m,\u001b[0m \u001b[0minplace\u001b[0m\u001b[0;34m=\u001b[0m\u001b[0;32mTrue\u001b[0m\u001b[0;34m)\u001b[0m\u001b[0;34m\u001b[0m\u001b[0;34m\u001b[0m\u001b[0m\n\u001b[0m",
            "\u001b[0;32m/usr/local/lib/python3.6/dist-packages/pandas/core/frame.py\u001b[0m in \u001b[0;36mdrop_duplicates\u001b[0;34m(self, subset, keep, inplace, ignore_index)\u001b[0m\n\u001b[1;32m   4809\u001b[0m \u001b[0;34m\u001b[0m\u001b[0m\n\u001b[1;32m   4810\u001b[0m         \u001b[0minplace\u001b[0m \u001b[0;34m=\u001b[0m \u001b[0mvalidate_bool_kwarg\u001b[0m\u001b[0;34m(\u001b[0m\u001b[0minplace\u001b[0m\u001b[0;34m,\u001b[0m \u001b[0;34m\"inplace\"\u001b[0m\u001b[0;34m)\u001b[0m\u001b[0;34m\u001b[0m\u001b[0;34m\u001b[0m\u001b[0m\n\u001b[0;32m-> 4811\u001b[0;31m         \u001b[0mduplicated\u001b[0m \u001b[0;34m=\u001b[0m \u001b[0mself\u001b[0m\u001b[0;34m.\u001b[0m\u001b[0mduplicated\u001b[0m\u001b[0;34m(\u001b[0m\u001b[0msubset\u001b[0m\u001b[0;34m,\u001b[0m \u001b[0mkeep\u001b[0m\u001b[0;34m=\u001b[0m\u001b[0mkeep\u001b[0m\u001b[0;34m)\u001b[0m\u001b[0;34m\u001b[0m\u001b[0;34m\u001b[0m\u001b[0m\n\u001b[0m\u001b[1;32m   4812\u001b[0m \u001b[0;34m\u001b[0m\u001b[0m\n\u001b[1;32m   4813\u001b[0m         \u001b[0;32mif\u001b[0m \u001b[0minplace\u001b[0m\u001b[0;34m:\u001b[0m\u001b[0;34m\u001b[0m\u001b[0;34m\u001b[0m\u001b[0m\n",
            "\u001b[0;32m/usr/local/lib/python3.6/dist-packages/pandas/core/frame.py\u001b[0m in \u001b[0;36mduplicated\u001b[0;34m(self, subset, keep)\u001b[0m\n\u001b[1;32m   4883\u001b[0m         \u001b[0mdiff\u001b[0m \u001b[0;34m=\u001b[0m \u001b[0mIndex\u001b[0m\u001b[0;34m(\u001b[0m\u001b[0msubset\u001b[0m\u001b[0;34m)\u001b[0m\u001b[0;34m.\u001b[0m\u001b[0mdifference\u001b[0m\u001b[0;34m(\u001b[0m\u001b[0mself\u001b[0m\u001b[0;34m.\u001b[0m\u001b[0mcolumns\u001b[0m\u001b[0;34m)\u001b[0m\u001b[0;34m\u001b[0m\u001b[0;34m\u001b[0m\u001b[0m\n\u001b[1;32m   4884\u001b[0m         \u001b[0;32mif\u001b[0m \u001b[0;32mnot\u001b[0m \u001b[0mdiff\u001b[0m\u001b[0;34m.\u001b[0m\u001b[0mempty\u001b[0m\u001b[0;34m:\u001b[0m\u001b[0;34m\u001b[0m\u001b[0;34m\u001b[0m\u001b[0m\n\u001b[0;32m-> 4885\u001b[0;31m             \u001b[0;32mraise\u001b[0m \u001b[0mKeyError\u001b[0m\u001b[0;34m(\u001b[0m\u001b[0mdiff\u001b[0m\u001b[0;34m)\u001b[0m\u001b[0;34m\u001b[0m\u001b[0;34m\u001b[0m\u001b[0m\n\u001b[0m\u001b[1;32m   4886\u001b[0m \u001b[0;34m\u001b[0m\u001b[0m\n\u001b[1;32m   4887\u001b[0m         \u001b[0mvals\u001b[0m \u001b[0;34m=\u001b[0m \u001b[0;34m(\u001b[0m\u001b[0mcol\u001b[0m\u001b[0;34m.\u001b[0m\u001b[0mvalues\u001b[0m \u001b[0;32mfor\u001b[0m \u001b[0mname\u001b[0m\u001b[0;34m,\u001b[0m \u001b[0mcol\u001b[0m \u001b[0;32min\u001b[0m \u001b[0mself\u001b[0m\u001b[0;34m.\u001b[0m\u001b[0mitems\u001b[0m\u001b[0;34m(\u001b[0m\u001b[0;34m)\u001b[0m \u001b[0;32mif\u001b[0m \u001b[0mname\u001b[0m \u001b[0;32min\u001b[0m \u001b[0msubset\u001b[0m\u001b[0;34m)\u001b[0m\u001b[0;34m\u001b[0m\u001b[0;34m\u001b[0m\u001b[0m\n",
            "\u001b[0;31mKeyError\u001b[0m: Index(['code\\t'], dtype='object')"
          ]
        }
      ]
    },
    {
      "cell_type": "markdown",
      "metadata": {
        "id": "TIvPNSST6psf"
      },
      "source": [
        "drop_duplicates() doesn't drop any duplicate row, because it didn't found any duplicate value in specific columns "
      ]
    },
    {
      "cell_type": "code",
      "metadata": {
        "id": "X54jYvO_p1QE"
      },
      "source": [
        "df.drop_duplicates(['date', 'avg_relative_humidity'], inplace=True)"
      ],
      "execution_count": null,
      "outputs": []
    },
    {
      "cell_type": "markdown",
      "metadata": {
        "id": "J2RCmgsdqmFO"
      },
      "source": [
        "drop row as it found duplicate in speificified col"
      ]
    },
    {
      "cell_type": "code",
      "metadata": {
        "id": "1qmueuri6O4K",
        "outputId": "328d65d3-c6a5-45af-a83e-e5404ec62b7f",
        "colab": {
          "base_uri": "https://localhost:8080/",
          "height": 204
        }
      },
      "source": [
        "df.tail()"
      ],
      "execution_count": null,
      "outputs": [
        {
          "output_type": "execute_result",
          "data": {
            "text/html": [
              "<div>\n",
              "<style scoped>\n",
              "    .dataframe tbody tr th:only-of-type {\n",
              "        vertical-align: middle;\n",
              "    }\n",
              "\n",
              "    .dataframe tbody tr th {\n",
              "        vertical-align: top;\n",
              "    }\n",
              "\n",
              "    .dataframe thead th {\n",
              "        text-align: right;\n",
              "    }\n",
              "</style>\n",
              "<table border=\"1\" class=\"dataframe\">\n",
              "  <thead>\n",
              "    <tr style=\"text-align: right;\">\n",
              "      <th></th>\n",
              "      <th>code</th>\n",
              "      <th>province</th>\n",
              "      <th>date</th>\n",
              "      <th>avg_temp</th>\n",
              "      <th>min_temp</th>\n",
              "      <th>max_temp</th>\n",
              "      <th>precipitation</th>\n",
              "      <th>max_wind_speed</th>\n",
              "      <th>most_wind_direction</th>\n",
              "      <th>avg_relative_humidity</th>\n",
              "    </tr>\n",
              "  </thead>\n",
              "  <tbody>\n",
              "    <tr>\n",
              "      <th>26265</th>\n",
              "      <td>41000</td>\n",
              "      <td>Chungcheongnam-do</td>\n",
              "      <td>2020-06-29</td>\n",
              "      <td>21.5</td>\n",
              "      <td>18.3</td>\n",
              "      <td>26.3</td>\n",
              "      <td>66.7</td>\n",
              "      <td>6.0</td>\n",
              "      <td>50.0</td>\n",
              "      <td>88.3</td>\n",
              "    </tr>\n",
              "    <tr>\n",
              "      <th>26266</th>\n",
              "      <td>50000</td>\n",
              "      <td>Jeollabuk-do</td>\n",
              "      <td>2020-06-29</td>\n",
              "      <td>22.0</td>\n",
              "      <td>19.7</td>\n",
              "      <td>26.5</td>\n",
              "      <td>27.6</td>\n",
              "      <td>4.4</td>\n",
              "      <td>90.0</td>\n",
              "      <td>85.1</td>\n",
              "    </tr>\n",
              "    <tr>\n",
              "      <th>26267</th>\n",
              "      <td>51000</td>\n",
              "      <td>Jeollanam-do</td>\n",
              "      <td>2020-06-29</td>\n",
              "      <td>21.9</td>\n",
              "      <td>20.0</td>\n",
              "      <td>24.0</td>\n",
              "      <td>80.5</td>\n",
              "      <td>16.8</td>\n",
              "      <td>90.0</td>\n",
              "      <td>97.9</td>\n",
              "    </tr>\n",
              "    <tr>\n",
              "      <th>26269</th>\n",
              "      <td>61000</td>\n",
              "      <td>Gyeongsangnam-do</td>\n",
              "      <td>2020-06-29</td>\n",
              "      <td>21.9</td>\n",
              "      <td>18.8</td>\n",
              "      <td>25.5</td>\n",
              "      <td>98.9</td>\n",
              "      <td>5.8</td>\n",
              "      <td>160.0</td>\n",
              "      <td>85.0</td>\n",
              "    </tr>\n",
              "    <tr>\n",
              "      <th>26270</th>\n",
              "      <td>70000</td>\n",
              "      <td>Jeju-do</td>\n",
              "      <td>2020-06-29</td>\n",
              "      <td>23.2</td>\n",
              "      <td>19.1</td>\n",
              "      <td>27.6</td>\n",
              "      <td>25.1</td>\n",
              "      <td>12.8</td>\n",
              "      <td>270.0</td>\n",
              "      <td>87.4</td>\n",
              "    </tr>\n",
              "  </tbody>\n",
              "</table>\n",
              "</div>"
            ],
            "text/plain": [
              "        code           province  ... most_wind_direction  avg_relative_humidity\n",
              "26265  41000  Chungcheongnam-do  ...                50.0                   88.3\n",
              "26266  50000       Jeollabuk-do  ...                90.0                   85.1\n",
              "26267  51000       Jeollanam-do  ...                90.0                   97.9\n",
              "26269  61000   Gyeongsangnam-do  ...               160.0                   85.0\n",
              "26270  70000            Jeju-do  ...               270.0                   87.4\n",
              "\n",
              "[5 rows x 10 columns]"
            ]
          },
          "metadata": {
            "tags": []
          },
          "execution_count": 41
        }
      ]
    },
    {
      "cell_type": "code",
      "metadata": {
        "id": "5BT99R5opFJn",
        "outputId": "a84602cf-ee2f-484e-855e-59c39cdad1d3",
        "colab": {
          "base_uri": "https://localhost:8080/",
          "height": 34
        }
      },
      "source": [
        "df.duplicated().any()"
      ],
      "execution_count": null,
      "outputs": [
        {
          "output_type": "execute_result",
          "data": {
            "text/plain": [
              "False"
            ]
          },
          "metadata": {
            "tags": []
          },
          "execution_count": 42
        }
      ]
    },
    {
      "cell_type": "code",
      "metadata": {
        "id": "QRR8sK7OsayS"
      },
      "source": [
        ""
      ],
      "execution_count": null,
      "outputs": []
    }
  ]
}