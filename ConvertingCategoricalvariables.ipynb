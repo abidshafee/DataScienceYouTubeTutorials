{
  "nbformat": 4,
  "nbformat_minor": 0,
  "metadata": {
    "colab": {
      "name": "ConvertingCategoricalvariables.ipynb",
      "provenance": [],
      "collapsed_sections": [],
      "authorship_tag": "ABX9TyPA8RcRa8p8yrG914QZj1A7",
      "include_colab_link": true
    },
    "kernelspec": {
      "name": "python3",
      "display_name": "Python 3"
    }
  },
  "cells": [
    {
      "cell_type": "markdown",
      "metadata": {
        "id": "view-in-github",
        "colab_type": "text"
      },
      "source": [
        "<a href=\"https://colab.research.google.com/github/abidshafee/DataScienceYouTubeTutorials/blob/master/ConvertingCategoricalvariables.ipynb\" target=\"_parent\"><img src=\"https://colab.research.google.com/assets/colab-badge.svg\" alt=\"Open In Colab\"/></a>"
      ]
    },
    {
      "cell_type": "code",
      "metadata": {
        "id": "E2zu9RmTHItB",
        "colab_type": "code",
        "colab": {}
      },
      "source": [
        "import numpy as np\n",
        "import pandas as pd\n",
        "from sklearn.preprocessing import LabelEncoder\n",
        "import seaborn as sns\n",
        "import pandas.util.testing as tm"
      ],
      "execution_count": null,
      "outputs": []
    },
    {
      "cell_type": "markdown",
      "metadata": {
        "id": "xB_vKSXmLKOC",
        "colab_type": "text"
      },
      "source": [
        "### Importing Data file"
      ]
    },
    {
      "cell_type": "code",
      "metadata": {
        "id": "VRJcI6QaIf58",
        "colab_type": "code",
        "colab": {}
      },
      "source": [
        "from google.colab import files\n",
        "file = files.upload()"
      ],
      "execution_count": null,
      "outputs": []
    },
    {
      "cell_type": "code",
      "metadata": {
        "id": "TZ8jh-0kKlCw",
        "colab_type": "code",
        "colab": {}
      },
      "source": [
        "df = pd.read_csv('BreastCancer_data.csv')"
      ],
      "execution_count": null,
      "outputs": []
    },
    {
      "cell_type": "markdown",
      "metadata": {
        "id": "dVoSaJmfLDjQ",
        "colab_type": "text"
      },
      "source": [
        "### Quickly Checking the data"
      ]
    },
    {
      "cell_type": "code",
      "metadata": {
        "id": "Uxf1FOSyK7-v",
        "colab_type": "code",
        "colab": {}
      },
      "source": [
        "df.head(3)"
      ],
      "execution_count": null,
      "outputs": []
    },
    {
      "cell_type": "code",
      "metadata": {
        "id": "YTfb6DRztxhK",
        "colab_type": "code",
        "colab": {}
      },
      "source": [
        "df.dtypes"
      ],
      "execution_count": null,
      "outputs": []
    },
    {
      "cell_type": "markdown",
      "metadata": {
        "id": "RLxJQMNGXLet",
        "colab_type": "text"
      },
      "source": [
        "### Data Cleaning"
      ]
    },
    {
      "cell_type": "code",
      "metadata": {
        "id": "J_aP6PEBLeub",
        "colab_type": "code",
        "colab": {}
      },
      "source": [
        "df.isna().sum()"
      ],
      "execution_count": null,
      "outputs": []
    },
    {
      "cell_type": "code",
      "metadata": {
        "id": "2_e28rA8OKur",
        "colab_type": "code",
        "colab": {}
      },
      "source": [
        "df.shape"
      ],
      "execution_count": null,
      "outputs": []
    },
    {
      "cell_type": "markdown",
      "metadata": {
        "id": "DPMtC6C6Ul40",
        "colab_type": "text"
      },
      "source": [
        "let see the **dataframe** where Unnamed: 32 column is empty."
      ]
    },
    {
      "cell_type": "code",
      "metadata": {
        "id": "rfsX5VHTVNp-",
        "colab_type": "code",
        "colab": {}
      },
      "source": [
        "df[df['Unnamed: 32'].isnull()]"
      ],
      "execution_count": null,
      "outputs": []
    },
    {
      "cell_type": "code",
      "metadata": {
        "id": "cISd_PNlTa4j",
        "colab_type": "code",
        "colab": {}
      },
      "source": [
        "df['Unnamed: 32'].isnull()"
      ],
      "execution_count": null,
      "outputs": []
    },
    {
      "cell_type": "markdown",
      "metadata": {
        "id": "IYfM_abxWwyo",
        "colab_type": "text"
      },
      "source": [
        "### Drop the empty Unnamed: 32 Column"
      ]
    },
    {
      "cell_type": "code",
      "metadata": {
        "id": "VKRgdXsKUZEG",
        "colab_type": "code",
        "colab": {}
      },
      "source": [
        "df = df.dropna(axis=1)"
      ],
      "execution_count": null,
      "outputs": []
    },
    {
      "cell_type": "markdown",
      "metadata": {
        "id": "dp3ER95GXZm9",
        "colab_type": "text"
      },
      "source": [
        "### Check the Unique Values in categorical diagnosis column"
      ]
    },
    {
      "cell_type": "code",
      "metadata": {
        "id": "wf3qT_U5K-3y",
        "colab_type": "code",
        "colab": {}
      },
      "source": [
        "df['diagnosis'].unique()"
      ],
      "execution_count": null,
      "outputs": []
    },
    {
      "cell_type": "markdown",
      "metadata": {
        "id": "hUBSJaRAX1iu",
        "colab_type": "text"
      },
      "source": [
        "### Count the number of values for each unique category"
      ]
    },
    {
      "cell_type": "code",
      "metadata": {
        "id": "79bd080xX0R5",
        "colab_type": "code",
        "colab": {}
      },
      "source": [
        "df['diagnosis'].value_counts()"
      ],
      "execution_count": null,
      "outputs": []
    },
    {
      "cell_type": "code",
      "metadata": {
        "id": "hw3r5qpTYUH_",
        "colab_type": "code",
        "colab": {}
      },
      "source": [
        "sns.countplot(df['diagnosis'])\n",
        "sns.set(style=\"darkgrid\")"
      ],
      "execution_count": null,
      "outputs": []
    },
    {
      "cell_type": "markdown",
      "metadata": {
        "id": "YjdxW811Y1Wz",
        "colab_type": "text"
      },
      "source": [
        "### Now converting categorical Variables in diagonosis column to numerical values using LabelEncoder utility class of scikit learn library. This will replace the original column in the dataframe."
      ]
    },
    {
      "cell_type": "code",
      "metadata": {
        "id": "MVjCA43YYwah",
        "colab_type": "code",
        "colab": {}
      },
      "source": [
        "encodedOutput_Y = LabelEncoder()\n",
        "df['diagnosis'] = encodedOutput_Y.fit_transform(df.iloc[:,1].values)"
      ],
      "execution_count": null,
      "outputs": []
    },
    {
      "cell_type": "code",
      "metadata": {
        "id": "rXmxYC3Tktm8",
        "colab_type": "code",
        "colab": {}
      },
      "source": [
        "df.head()"
      ],
      "execution_count": null,
      "outputs": []
    },
    {
      "cell_type": "markdown",
      "metadata": {
        "id": "-Yx4kGJBsrCR",
        "colab_type": "text"
      },
      "source": [
        "## Loading the dataframe again"
      ]
    },
    {
      "cell_type": "code",
      "metadata": {
        "id": "QMm7SZPotD5U",
        "colab_type": "code",
        "colab": {}
      },
      "source": [
        "df = pd.read_csv('BreastCancer_data.csv')"
      ],
      "execution_count": null,
      "outputs": []
    },
    {
      "cell_type": "code",
      "metadata": {
        "id": "cKfdt2ZGtmek",
        "colab_type": "code",
        "colab": {}
      },
      "source": [
        "df.shape"
      ],
      "execution_count": null,
      "outputs": []
    },
    {
      "cell_type": "markdown",
      "metadata": {
        "id": "oYgjt1K7l2qa",
        "colab_type": "text"
      },
      "source": [
        "### Converting Categorical data to numerical values using numpy where() method"
      ]
    },
    {
      "cell_type": "code",
      "metadata": {
        "id": "g2oVCMvymDWb",
        "colab_type": "code",
        "colab": {}
      },
      "source": [
        "%timeit\n",
        "df['dignosis_new_col'] = np.where(df['diagnosis']=='M', 0, 1)\n",
        "\n",
        "# df['dignosis'] = np.where(df['diagnosis'].str.contains('M'),1,0)\n",
        "%timeit"
      ],
      "execution_count": null,
      "outputs": []
    },
    {
      "cell_type": "markdown",
      "metadata": {
        "id": "r3x-keYHsgPh",
        "colab_type": "text"
      },
      "source": [
        "Droping Column"
      ]
    },
    {
      "cell_type": "code",
      "metadata": {
        "id": "9fMz5bzomUeU",
        "colab_type": "code",
        "colab": {}
      },
      "source": [
        "df.head(2)"
      ],
      "execution_count": null,
      "outputs": []
    },
    {
      "cell_type": "code",
      "metadata": {
        "id": "zG8ZG2h9rI4v",
        "colab_type": "code",
        "colab": {}
      },
      "source": [
        "df.drop('dignosis_new_col',\n",
        "  axis='columns', inplace=True)"
      ],
      "execution_count": null,
      "outputs": []
    },
    {
      "cell_type": "code",
      "metadata": {
        "id": "JBeiDQcsp7A0",
        "colab_type": "code",
        "colab": {}
      },
      "source": [
        ""
      ],
      "execution_count": null,
      "outputs": []
    }
  ]
}