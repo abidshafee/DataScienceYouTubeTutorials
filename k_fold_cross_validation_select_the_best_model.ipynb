{
  "nbformat": 4,
  "nbformat_minor": 0,
  "metadata": {
    "colab": {
      "name": "k-fold cross validation-select the best model.ipynb",
      "provenance": [],
      "authorship_tag": "ABX9TyNF4Gn9f1fGo7JwTd4RQolv",
      "include_colab_link": true
    },
    "kernelspec": {
      "name": "python3",
      "display_name": "Python 3"
    }
  },
  "cells": [
    {
      "cell_type": "markdown",
      "metadata": {
        "id": "view-in-github",
        "colab_type": "text"
      },
      "source": [
        "<a href=\"https://colab.research.google.com/github/abidshafee/DataScienceYouTubeTutorials/blob/master/k_fold_cross_validation_select_the_best_model.ipynb\" target=\"_parent\"><img src=\"https://colab.research.google.com/assets/colab-badge.svg\" alt=\"Open In Colab\"/></a>"
      ]
    },
    {
      "cell_type": "markdown",
      "metadata": {
        "id": "PhqElXrHcjTQ"
      },
      "source": [
        "Importing All Required Libraries"
      ]
    },
    {
      "cell_type": "code",
      "metadata": {
        "id": "zX9xXOdfQvsI"
      },
      "source": [
        ""
      ],
      "execution_count": null,
      "outputs": []
    }
  ]
}